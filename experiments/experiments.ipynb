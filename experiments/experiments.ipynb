{
 "cells": [
  {
   "cell_type": "code",
   "execution_count": 1,
   "source": [
    "%load_ext autoreload\n",
    "%autoreload 2\n",
    "%matplotlib inline"
   ],
   "outputs": [],
   "metadata": {}
  },
  {
   "cell_type": "code",
   "execution_count": 2,
   "source": [
    "# from sklearn import set_config\n",
    "# set_config(display='diagram')\n",
    "\n",
    "from dspipes import Pipelines, TextPipeline\n",
    "from Experiment import Experiment\n",
    "\n",
    "import numpy as np\n",
    "# CAUTION: forksets has to be an np array\n",
    "# forksets = []\n",
    "# for i in range(1000): \n",
    "#     forksets += 1 * [i]\n",
    "# forksets = np.array(forksets)\n",
    "# forksets\n"
   ],
   "outputs": [
    {
     "output_type": "stream",
     "name": "stderr",
     "text": [
      "[nltk_data] Downloading package stopwords to /Users/david/nltk_data...\n",
      "[nltk_data]   Package stopwords is already up-to-date!\n",
      "[nltk_data] Downloading package wordnet to /Users/david/nltk_data...\n",
      "[nltk_data]   Package wordnet is already up-to-date!\n",
      "[nltk_data] Downloading package punkt to /Users/david/nltk_data...\n",
      "[nltk_data]   Package punkt is already up-to-date!\n"
     ]
    }
   ],
   "metadata": {}
  },
  {
   "cell_type": "code",
   "execution_count": 10,
   "source": [
    "for i in range(0,8):\n",
    "    name = f'pipe_{i}'\n",
    "    model = Pipelines.create_numerical_pipeline(name, imputer=False)\n",
    "    exp_name = f'forks_10_complete_{name}'\n",
    "    exp = Experiment(exp_name, model, dataset_name=\"UCI\", save_path=\"./\")\n",
    "    if i == 7: \n",
    "        exp.run(iterations=1, run_label=False, run_poisoning=False, run_fairness=False, run_augmentation=True, ray=True, flatten=False, truncated=True, run_forks=10)\n",
    "    else:\n",
    "        exp.run(iterations=1, run_label=True, run_poisoning=True, run_fairness=True, run_augmentation=False, ray=True, truncated=True, run_forks=10)"
   ],
   "outputs": [
    {
     "output_type": "stream",
     "name": "stdout",
     "text": [
      "Initiate experiment forks_10_complete_pipe_0-i-1-time-06-09-2021-07-13-44\n",
      "[DataScope] => Running label noise experiment\n",
      "Successfully created the directory .//results/forks_10_complete_pipe_0/i-1-time-06-09-2021-07-13-44/label/\n",
      "True\n",
      "[DataScope] => Generating 10 interesting forks ...\n",
      "size of sets 100\n",
      "Pipeline(steps=[('identity',\n",
      "                 FunctionTransformer(func=<function process_pipe_condknn.<locals>.identity at 0x7fb9a6320cb0>))])\n",
      "[DataScope] => Now running KNN_Shapley\n",
      "condknn time:  0.033314777999976286\n",
      "Pipeline(steps=[('classifier',\n",
      "                 LogisticRegression(max_iter=5000, random_state=666,\n",
      "                                    solver='liblinear'))])\n",
      "[DataScope] => Now running TMC_Shapley\n",
      "condpipe time:  0.09231603399996402\n",
      "Pipeline(steps=[('identity',\n",
      "                 FunctionTransformer(func=<function get_pipe_ops.<locals>.identity at 0x7fb9a6320c20>)),\n",
      "                ('knn', KNeighborsClassifier(n_neighbors=1))])\n",
      "[DataScope] => Now running TMC_Shapley\n",
      "\u001b[2m\u001b[36m(pid=85691)\u001b[0m 1 out of 1 TMC_Shapley iterations.\n",
      "Pipeline(steps=[('identity',\n",
      "                 FunctionTransformer(func=<function get_pipe_ops.<locals>.identity at 0x7fb9a6320c20>)),\n",
      "                ('classifier',\n",
      "                 LogisticRegression(max_iter=5000, random_state=666,\n",
      "                                    solver='liblinear'))])\n",
      "[DataScope] => Now running TMC_Shapley\n",
      "\u001b[2m\u001b[36m(pid=85691)\u001b[0m 1 out of 1 TMC_Shapley iterations.\n",
      "\u001b[2m\u001b[36m(pid=85691)\u001b[0m 1 out of 1 TMC_Shapley iterations.\n"
     ]
    },
    {
     "output_type": "stream",
     "name": "stderr",
     "text": [
      "/Users/david/Projects/datascope/experiments/plotter/LabelPlotter.py:95: UserWarning: Matplotlib is currently using agg, which is a non-GUI backend, so cannot show the figure.\n",
      "  plt.tight_layout()\n"
     ]
    },
    {
     "output_type": "stream",
     "name": "stdout",
     "text": [
      "\u001b[2m\u001b[36m(pid=85680)\u001b[0m 5 out of 10 evaluation iterations for KNN-Shapley (cond).\n",
      "\u001b[2m\u001b[36m(pid=85680)\u001b[0m 3 out of 10 evaluation iterations for TMC-Shapley (cond).\n",
      "\u001b[2m\u001b[36m(pid=85680)\u001b[0m 6 out of 10 evaluation iterations for KNN-Shapley.\n",
      "\u001b[2m\u001b[36m(pid=85679)\u001b[0m 9 out of 10 evaluation iterations for KNN-Shapley (cond).\n",
      "\u001b[2m\u001b[36m(pid=85679)\u001b[0m 5 out of 10 evaluation iterations for TMC-Shapley (cond).\n",
      "\u001b[2m\u001b[36m(pid=85679)\u001b[0m 1 out of 10 evaluation iterations for KNN-Shapley.\n",
      "\u001b[2m\u001b[36m(pid=85691)\u001b[0m 1 out of 10 evaluation iterations for KNN-Shapley (cond).\n",
      "\u001b[2m\u001b[36m(pid=85691)\u001b[0m 2 out of 10 evaluation iterations for TMC-Shapley (cond).\n",
      "\u001b[2m\u001b[36m(pid=85691)\u001b[0m 4 out of 10 evaluation iterations for KNN-Shapley.\n",
      "\u001b[2m\u001b[36m(pid=85715)\u001b[0m 4 out of 10 evaluation iterations for KNN-Shapley (cond).\n",
      "\u001b[2m\u001b[36m(pid=85715)\u001b[0m 4 out of 10 evaluation iterations for TMC-Shapley (cond).\n",
      "\u001b[2m\u001b[36m(pid=85715)\u001b[0m 8 out of 10 evaluation iterations for KNN-Shapley.\n",
      "\u001b[2m\u001b[36m(pid=85692)\u001b[0m 2 out of 10 evaluation iterations for KNN-Shapley (cond).\n",
      "\u001b[2m\u001b[36m(pid=85692)\u001b[0m 6 out of 10 evaluation iterations for TMC-Shapley (cond).\n",
      "\u001b[2m\u001b[36m(pid=85692)\u001b[0m 3 out of 10 evaluation iterations for KNN-Shapley.\n",
      "\u001b[2m\u001b[36m(pid=85696)\u001b[0m 7 out of 10 evaluation iterations for KNN-Shapley (cond).\n",
      "\u001b[2m\u001b[36m(pid=85696)\u001b[0m 1 out of 10 evaluation iterations for TMC-Shapley (cond).\n",
      "\u001b[2m\u001b[36m(pid=85696)\u001b[0m 7 out of 10 evaluation iterations for KNN-Shapley.\n",
      "\u001b[2m\u001b[36m(pid=85689)\u001b[0m 10 out of 10 evaluation iterations for KNN-Shapley (cond).\n",
      "\u001b[2m\u001b[36m(pid=85689)\u001b[0m 9 out of 10 evaluation iterations for TMC-Shapley (cond).\n",
      "\u001b[2m\u001b[36m(pid=85689)\u001b[0m 2 out of 10 evaluation iterations for KNN-Shapley.\n",
      "\u001b[2m\u001b[36m(pid=85695)\u001b[0m 6 out of 10 evaluation iterations for KNN-Shapley (cond).\n",
      "\u001b[2m\u001b[36m(pid=85695)\u001b[0m 7 out of 10 evaluation iterations for TMC-Shapley (cond).\n",
      "\u001b[2m\u001b[36m(pid=85695)\u001b[0m 9 out of 10 evaluation iterations for KNN-Shapley.\n",
      "\u001b[2m\u001b[36m(pid=85690)\u001b[0m 3 out of 10 evaluation iterations for KNN-Shapley (cond).\n",
      "\u001b[2m\u001b[36m(pid=85690)\u001b[0m 8 out of 10 evaluation iterations for TMC-Shapley (cond).\n",
      "\u001b[2m\u001b[36m(pid=85690)\u001b[0m 5 out of 10 evaluation iterations for KNN-Shapley.\n",
      "\u001b[2m\u001b[36m(pid=85688)\u001b[0m 8 out of 10 evaluation iterations for KNN-Shapley (cond).\n",
      "\u001b[2m\u001b[36m(pid=85688)\u001b[0m 10 out of 10 evaluation iterations for TMC-Shapley (cond).\n",
      "\u001b[2m\u001b[36m(pid=85688)\u001b[0m 10 out of 10 evaluation iterations for KNN-Shapley.\n",
      "\u001b[2m\u001b[36m(pid=85680)\u001b[0m 6 out of 10 evaluation iterations for TMC-Shapley.\n",
      "\u001b[2m\u001b[36m(pid=85680)\u001b[0m 6 out of 10 evaluation iterations for Random.\n",
      "\u001b[2m\u001b[36m(pid=85679)\u001b[0m 1 out of 10 evaluation iterations for TMC-Shapley.\n",
      "\u001b[2m\u001b[36m(pid=85679)\u001b[0m 1 out of 10 evaluation iterations for Random.\n",
      "\u001b[2m\u001b[36m(pid=85691)\u001b[0m 8 out of 10 evaluation iterations for TMC-Shapley.\n",
      "\u001b[2m\u001b[36m(pid=85691)\u001b[0m 7 out of 10 evaluation iterations for Random.\n",
      "\u001b[2m\u001b[36m(pid=85715)\u001b[0m 9 out of 10 evaluation iterations for TMC-Shapley.\n",
      "\u001b[2m\u001b[36m(pid=85715)\u001b[0m 10 out of 10 evaluation iterations for Random.\n",
      "\u001b[2m\u001b[36m(pid=85692)\u001b[0m 2 out of 10 evaluation iterations for TMC-Shapley.\n",
      "\u001b[2m\u001b[36m(pid=85692)\u001b[0m 3 out of 10 evaluation iterations for Random.\n",
      "\u001b[2m\u001b[36m(pid=85696)\u001b[0m 5 out of 10 evaluation iterations for TMC-Shapley.\n",
      "\u001b[2m\u001b[36m(pid=85696)\u001b[0m 5 out of 10 evaluation iterations for Random.\n",
      "\u001b[2m\u001b[36m(pid=85689)\u001b[0m 10 out of 10 evaluation iterations for TMC-Shapley.\n",
      "\u001b[2m\u001b[36m(pid=85689)\u001b[0m 9 out of 10 evaluation iterations for Random.\n",
      "\u001b[2m\u001b[36m(pid=85695)\u001b[0m 7 out of 10 evaluation iterations for TMC-Shapley.\n",
      "\u001b[2m\u001b[36m(pid=85695)\u001b[0m 2 out of 10 evaluation iterations for Random.\n",
      "\u001b[2m\u001b[36m(pid=85690)\u001b[0m 3 out of 10 evaluation iterations for TMC-Shapley.\n",
      "\u001b[2m\u001b[36m(pid=85690)\u001b[0m 8 out of 10 evaluation iterations for Random.\n",
      "\u001b[2m\u001b[36m(pid=85688)\u001b[0m 4 out of 10 evaluation iterations for TMC-Shapley.\n",
      "\u001b[2m\u001b[36m(pid=85688)\u001b[0m 4 out of 10 evaluation iterations for Random.\n"
     ]
    },
    {
     "output_type": "stream",
     "name": "stderr",
     "text": [
      "/Users/david/Projects/datascope/experiments/plotter/LabelCleaningPlotter.py:173: UserWarning: Matplotlib is currently using agg, which is a non-GUI backend, so cannot show the figure.\n",
      "  plt.show()\n"
     ]
    },
    {
     "output_type": "stream",
     "name": "stdout",
     "text": [
      "[DataScope] => Running poisoning experiment\n",
      "Successfully created the directory .//results/forks_10_complete_pipe_0/i-1-time-06-09-2021-07-13-44/poisoning/\n",
      "[DataScope] => Generating 10 interesting forks ...\n",
      "size of sets 100\n",
      "Pipeline(steps=[('identity',\n",
      "                 FunctionTransformer(func=<function process_pipe_condknn.<locals>.identity at 0x7fb9a6a87200>))])\n",
      "[DataScope] => Now running KNN_Shapley\n",
      "Pipeline(steps=[('classifier',\n",
      "                 LogisticRegression(max_iter=5000, random_state=666,\n",
      "                                    solver='liblinear'))])\n",
      "[DataScope] => Now running TMC_Shapley\n",
      "\u001b[2m\u001b[36m(pid=85692)\u001b[0m 1 out of 1 TMC_Shapley iterations.\n",
      "Pipeline(steps=[('identity',\n",
      "                 FunctionTransformer(func=<function get_pipe_ops.<locals>.identity at 0x7fb9a6320c20>)),\n",
      "                ('knn', KNeighborsClassifier(n_neighbors=1))])\n",
      "[DataScope] => Now running TMC_Shapley\n",
      "\u001b[2m\u001b[36m(pid=85692)\u001b[0m 1 out of 1 TMC_Shapley iterations.\n",
      "Pipeline(steps=[('identity',\n",
      "                 FunctionTransformer(func=<function get_pipe_ops.<locals>.identity at 0x7fb9a6320c20>)),\n",
      "                ('classifier',\n",
      "                 LogisticRegression(max_iter=5000, random_state=666,\n",
      "                                    solver='liblinear'))])\n",
      "[DataScope] => Now running TMC_Shapley\n",
      "\u001b[2m\u001b[36m(pid=85692)\u001b[0m 1 out of 1 TMC_Shapley iterations.\n"
     ]
    },
    {
     "output_type": "stream",
     "name": "stderr",
     "text": [
      "/Users/david/Projects/datascope/experiments/plotter/PoisoningPlotter.py:97: UserWarning: Matplotlib is currently using agg, which is a non-GUI backend, so cannot show the figure.\n",
      "  plt.show()\n"
     ]
    },
    {
     "output_type": "stream",
     "name": "stdout",
     "text": [
      "\u001b[2m\u001b[36m(pid=85680)\u001b[0m 2 out of 10 evaluation iterations for KNN-Shapley (cond).\n",
      "\u001b[2m\u001b[36m(pid=85679)\u001b[0m 7 out of 10 evaluation iterations for KNN-Shapley (cond).\n",
      "\u001b[2m\u001b[36m(pid=85691)\u001b[0m 6 out of 10 evaluation iterations for KNN-Shapley (cond).\n",
      "\u001b[2m\u001b[36m(pid=85715)\u001b[0m 4 out of 10 evaluation iterations for KNN-Shapley (cond).\n",
      "\u001b[2m\u001b[36m(pid=85692)\u001b[0m 1 out of 10 evaluation iterations for KNN-Shapley (cond).\n",
      "\u001b[2m\u001b[36m(pid=85696)\u001b[0m 9 out of 10 evaluation iterations for KNN-Shapley (cond).\n",
      "\u001b[2m\u001b[36m(pid=85689)\u001b[0m 3 out of 10 evaluation iterations for KNN-Shapley (cond).\n",
      "\u001b[2m\u001b[36m(pid=85695)\u001b[0m 5 out of 10 evaluation iterations for KNN-Shapley (cond).\n",
      "\u001b[2m\u001b[36m(pid=85690)\u001b[0m 8 out of 10 evaluation iterations for KNN-Shapley (cond).\n",
      "\u001b[2m\u001b[36m(pid=85688)\u001b[0m 10 out of 10 evaluation iterations for KNN-Shapley (cond).\n",
      "\u001b[2m\u001b[36m(pid=85680)\u001b[0m 5 out of 10 evaluation iterations for TMC-Shapley (cond).\n",
      "\u001b[2m\u001b[36m(pid=85679)\u001b[0m 8 out of 10 evaluation iterations for TMC-Shapley (cond).\n",
      "\u001b[2m\u001b[36m(pid=85691)\u001b[0m 3 out of 10 evaluation iterations for TMC-Shapley (cond).\n",
      "\u001b[2m\u001b[36m(pid=85715)\u001b[0m 6 out of 10 evaluation iterations for TMC-Shapley (cond).\n",
      "\u001b[2m\u001b[36m(pid=85692)\u001b[0m 2 out of 10 evaluation iterations for TMC-Shapley (cond).\n",
      "\u001b[2m\u001b[36m(pid=85696)\u001b[0m 9 out of 10 evaluation iterations for TMC-Shapley (cond).\n",
      "\u001b[2m\u001b[36m(pid=85689)\u001b[0m 4 out of 10 evaluation iterations for TMC-Shapley (cond).\n",
      "\u001b[2m\u001b[36m(pid=85695)\u001b[0m 1 out of 10 evaluation iterations for TMC-Shapley (cond).\n",
      "\u001b[2m\u001b[36m(pid=85690)\u001b[0m 7 out of 10 evaluation iterations for TMC-Shapley (cond).\n",
      "\u001b[2m\u001b[36m(pid=85688)\u001b[0m 10 out of 10 evaluation iterations for TMC-Shapley (cond).\n",
      "\u001b[2m\u001b[36m(pid=85679)\u001b[0m 6 out of 10 evaluation iterations for KNN-Shapley.\n",
      "\u001b[2m\u001b[36m(pid=85696)\u001b[0m 10 out of 10 evaluation iterations for KNN-Shapley.\n",
      "\u001b[2m\u001b[36m(pid=85689)\u001b[0m 5 out of 10 evaluation iterations for KNN-Shapley.\n",
      "\u001b[2m\u001b[36m(pid=85688)\u001b[0m 9 out of 10 evaluation iterations for KNN-Shapley.\n",
      "\u001b[2m\u001b[36m(pid=85680)\u001b[0m 8 out of 10 evaluation iterations for KNN-Shapley.\n",
      "\u001b[2m\u001b[36m(pid=85691)\u001b[0m 3 out of 10 evaluation iterations for KNN-Shapley.\n",
      "\u001b[2m\u001b[36m(pid=85715)\u001b[0m 7 out of 10 evaluation iterations for KNN-Shapley.\n",
      "\u001b[2m\u001b[36m(pid=85692)\u001b[0m 2 out of 10 evaluation iterations for KNN-Shapley.\n",
      "\u001b[2m\u001b[36m(pid=85695)\u001b[0m 1 out of 10 evaluation iterations for KNN-Shapley.\n",
      "\u001b[2m\u001b[36m(pid=85690)\u001b[0m 4 out of 10 evaluation iterations for KNN-Shapley.\n",
      "\u001b[2m\u001b[36m(pid=85680)\u001b[0m 6 out of 10 evaluation iterations for TMC-Shapley.\n",
      "\u001b[2m\u001b[36m(pid=85679)\u001b[0m 8 out of 10 evaluation iterations for TMC-Shapley.\n",
      "\u001b[2m\u001b[36m(pid=85691)\u001b[0m 2 out of 10 evaluation iterations for TMC-Shapley.\n",
      "\u001b[2m\u001b[36m(pid=85715)\u001b[0m 5 out of 10 evaluation iterations for TMC-Shapley.\n",
      "\u001b[2m\u001b[36m(pid=85692)\u001b[0m 4 out of 10 evaluation iterations for TMC-Shapley.\n",
      "\u001b[2m\u001b[36m(pid=85696)\u001b[0m 10 out of 10 evaluation iterations for TMC-Shapley.\n",
      "\u001b[2m\u001b[36m(pid=85689)\u001b[0m 7 out of 10 evaluation iterations for TMC-Shapley.\n",
      "\u001b[2m\u001b[36m(pid=85695)\u001b[0m 1 out of 10 evaluation iterations for TMC-Shapley.\n",
      "\u001b[2m\u001b[36m(pid=85690)\u001b[0m 3 out of 10 evaluation iterations for TMC-Shapley.\n",
      "\u001b[2m\u001b[36m(pid=85688)\u001b[0m 9 out of 10 evaluation iterations for TMC-Shapley.\n",
      "\u001b[2m\u001b[36m(pid=85680)\u001b[0m 6 out of 10 evaluation iterations for Random.\n",
      "\u001b[2m\u001b[36m(pid=85679)\u001b[0m 9 out of 10 evaluation iterations for Random.\n",
      "\u001b[2m\u001b[36m(pid=85691)\u001b[0m 4 out of 10 evaluation iterations for Random.\n",
      "\u001b[2m\u001b[36m(pid=85715)\u001b[0m 7 out of 10 evaluation iterations for Random.\n",
      "\u001b[2m\u001b[36m(pid=85692)\u001b[0m 3 out of 10 evaluation iterations for Random.\n",
      "\u001b[2m\u001b[36m(pid=85696)\u001b[0m 10 out of 10 evaluation iterations for Random.\n",
      "\u001b[2m\u001b[36m(pid=85689)\u001b[0m 8 out of 10 evaluation iterations for Random.\n",
      "\u001b[2m\u001b[36m(pid=85695)\u001b[0m 2 out of 10 evaluation iterations for Random.\n",
      "\u001b[2m\u001b[36m(pid=85690)\u001b[0m 1 out of 10 evaluation iterations for Random.\n",
      "\u001b[2m\u001b[36m(pid=85688)\u001b[0m 5 out of 10 evaluation iterations for Random.\n"
     ]
    },
    {
     "output_type": "stream",
     "name": "stderr",
     "text": [
      "/Users/david/Projects/datascope/experiments/plotter/PoisoningCleaningPlotter.py:177: UserWarning: Matplotlib is currently using agg, which is a non-GUI backend, so cannot show the figure.\n",
      "  plt.show()\n"
     ]
    },
    {
     "output_type": "stream",
     "name": "stdout",
     "text": [
      "[DataScope] => Running fairness experiment\n",
      "Successfully created the directory .//results/forks_10_complete_pipe_0/i-1-time-06-09-2021-07-13-44/fairness/\n",
      "Initial demographic ratio parity is 0.582089552238806!\n",
      "Initial equalized odds ratio is 0.5499999999999999!\n",
      "Pipeline(steps=[('classifier',\n",
      "                 LogisticRegression(max_iter=5000, random_state=666,\n",
      "                                    solver='liblinear'))])\n",
      "[DataScope] => Now running TMC_Shapley\n",
      "\u001b[2m\u001b[36m(pid=85690)\u001b[0m 1 out of 1 TMC_Shapley iterations.\n",
      "Pipeline(steps=[('identity',\n",
      "                 FunctionTransformer(func=<function get_pipe_ops.<locals>.identity at 0x7fb9a6320c20>)),\n",
      "                ('knn', KNeighborsClassifier(n_neighbors=1))])\n",
      "[DataScope] => Now running TMC_Shapley\n",
      "\u001b[2m\u001b[36m(pid=85690)\u001b[0m 1 out of 1 TMC_Shapley iterations.\n",
      "Pipeline(steps=[('identity',\n",
      "                 FunctionTransformer(func=<function get_pipe_ops.<locals>.identity at 0x7fb9a6320c20>)),\n",
      "                ('classifier',\n",
      "                 LogisticRegression(max_iter=5000, random_state=666,\n",
      "                                    solver='liblinear'))])\n",
      "[DataScope] => Now running TMC_Shapley\n",
      "\u001b[2m\u001b[36m(pid=85690)\u001b[0m 1 out of 1 TMC_Shapley iterations.\n",
      "\u001b[2m\u001b[36m(pid=85392)\u001b[0m 12 out of 15 evaluation iterations for TMC-Shapley (cond).\n",
      "\u001b[2m\u001b[36m(pid=85392)\u001b[0m 15 out of 15 evaluation iterations for TMC-Shapley (cond).\n",
      "\u001b[2m\u001b[36m(pid=85691)\u001b[0m 3 out of 15 evaluation iterations for TMC-Shapley (cond).\n",
      "\u001b[2m\u001b[36m(pid=85715)\u001b[0m 6 out of 15 evaluation iterations for TMC-Shapley (cond).\n",
      "\u001b[2m\u001b[36m(pid=85692)\u001b[0m 9 out of 15 evaluation iterations for TMC-Shapley (cond).\n",
      "\u001b[2m\u001b[36m(pid=85392)\u001b[0m This solver needs samples of at least 2 classes in the data, but the data contains only one class: 0\n",
      "\u001b[2m\u001b[36m(pid=85392)\u001b[0m 3 out of 15 evaluation iterations for TMC-Shapley.\n",
      "\u001b[2m\u001b[36m(pid=85681)\u001b[0m 6 out of 15 evaluation iterations for TMC-Shapley.\n",
      "\u001b[2m\u001b[36m(pid=85679)\u001b[0m This solver needs samples of at least 2 classes in the data, but the data contains only one class: 1\n",
      "\u001b[2m\u001b[36m(pid=85715)\u001b[0m 12 out of 15 evaluation iterations for KNN-Shapley.\n",
      "\u001b[2m\u001b[36m(pid=85715)\u001b[0m 15 out of 15 evaluation iterations for KNN-Shapley.\n",
      "\u001b[2m\u001b[36m(pid=85692)\u001b[0m 9 out of 15 evaluation iterations for TMC-Shapley.\n",
      "\u001b[2m\u001b[36m(pid=85696)\u001b[0m 3 out of 15 evaluation iterations for KNN-Shapley.\n",
      "\u001b[2m\u001b[36m(pid=85696)\u001b[0m 15 out of 15 evaluation iterations for TMC-Shapley.\n",
      "\u001b[2m\u001b[36m(pid=85696)\u001b[0m This solver needs samples of at least 2 classes in the data, but the data contains only one class: 1\n",
      "\u001b[2m\u001b[36m(pid=85689)\u001b[0m 6 out of 15 evaluation iterations for KNN-Shapley.\n",
      "\u001b[2m\u001b[36m(pid=85689)\u001b[0m 12 out of 15 evaluation iterations for TMC-Shapley.\n",
      "\u001b[2m\u001b[36m(pid=85695)\u001b[0m 9 out of 15 evaluation iterations for KNN-Shapley.\n",
      "\u001b[2m\u001b[36m(pid=85681)\u001b[0m 9 out of 15 evaluation iterations for Random.\n",
      "\u001b[2m\u001b[36m(pid=85715)\u001b[0m 3 out of 15 evaluation iterations for Random.\n",
      "\u001b[2m\u001b[36m(pid=85692)\u001b[0m 12 out of 15 evaluation iterations for Random.\n",
      "\u001b[2m\u001b[36m(pid=85696)\u001b[0m 6 out of 15 evaluation iterations for Random.\n",
      "\u001b[2m\u001b[36m(pid=85689)\u001b[0m This solver needs samples of at least 2 classes in the data, but the data contains only one class: 0\n",
      "\u001b[2m\u001b[36m(pid=85695)\u001b[0m 15 out of 15 evaluation iterations for Random.\n",
      "\u001b[2m\u001b[36m(pid=85695)\u001b[0m This solver needs samples of at least 2 classes in the data, but the data contains only one class: 0\n"
     ]
    },
    {
     "output_type": "stream",
     "name": "stderr",
     "text": [
      "/Users/david/Projects/datascope/experiments/plotter/FairnessPlotter.py:138: UserWarning: Matplotlib is currently using agg, which is a non-GUI backend, so cannot show the figure.\n",
      "  plt.show()\n"
     ]
    },
    {
     "output_type": "stream",
     "name": "stdout",
     "text": [
      "\u001b[2m\u001b[36m(pid=85392)\u001b[0m 3 out of 15 evaluation iterations for TMC-Shapley (cond).\n",
      "\u001b[2m\u001b[36m(pid=85392)\u001b[0m 9 out of 15 evaluation iterations for KNN-Shapley.\n",
      "\u001b[2m\u001b[36m(pid=85680)\u001b[0m 15 out of 15 evaluation iterations for TMC-Shapley (cond).\n",
      "\u001b[2m\u001b[36m(pid=85680)\u001b[0m This solver needs samples of at least 2 classes in the data, but the data contains only one class: 0\n",
      "\u001b[2m\u001b[36m(pid=85680)\u001b[0m 3 out of 15 evaluation iterations for KNN-Shapley.\n",
      "\u001b[2m\u001b[36m(pid=85689)\u001b[0m 12 out of 15 evaluation iterations for TMC-Shapley (cond).\n",
      "\u001b[2m\u001b[36m(pid=85690)\u001b[0m 6 out of 15 evaluation iterations for TMC-Shapley (cond).\n",
      "\u001b[2m\u001b[36m(pid=85690)\u001b[0m 6 out of 15 evaluation iterations for KNN-Shapley.\n",
      "\u001b[2m\u001b[36m(pid=85688)\u001b[0m 9 out of 15 evaluation iterations for TMC-Shapley (cond).\n",
      "\u001b[2m\u001b[36m(pid=85691)\u001b[0m 12 out of 15 evaluation iterations for KNN-Shapley.\n",
      "\u001b[2m\u001b[36m(pid=85696)\u001b[0m 15 out of 15 evaluation iterations for KNN-Shapley.\n",
      "\u001b[2m\u001b[36m(pid=85392)\u001b[0m 3 out of 15 evaluation iterations for Random.\n",
      "\u001b[2m\u001b[36m(pid=85679)\u001b[0m 9 out of 15 evaluation iterations for TMC-Shapley.\n",
      "\u001b[2m\u001b[36m(pid=85679)\u001b[0m This solver needs samples of at least 2 classes in the data, but the data contains only one class: 1\n",
      "\u001b[2m\u001b[36m(pid=85679)\u001b[0m 15 out of 15 evaluation iterations for Random.\n",
      "\u001b[2m\u001b[36m(pid=85679)\u001b[0m This solver needs samples of at least 2 classes in the data, but the data contains only one class: 1\n",
      "\u001b[2m\u001b[36m(pid=85691)\u001b[0m 3 out of 15 evaluation iterations for TMC-Shapley.\n",
      "\u001b[2m\u001b[36m(pid=85691)\u001b[0m 15 out of 15 evaluation iterations for TMC-Shapley.\n",
      "\u001b[2m\u001b[36m(pid=85691)\u001b[0m This solver needs samples of at least 2 classes in the data, but the data contains only one class: 1\n",
      "\u001b[2m\u001b[36m(pid=85692)\u001b[0m 6 out of 15 evaluation iterations for TMC-Shapley.\n",
      "\u001b[2m\u001b[36m(pid=85696)\u001b[0m 12 out of 15 evaluation iterations for Random.\n",
      "\u001b[2m\u001b[36m(pid=85690)\u001b[0m 9 out of 15 evaluation iterations for Random.\n",
      "\u001b[2m\u001b[36m(pid=85688)\u001b[0m 12 out of 15 evaluation iterations for TMC-Shapley.\n",
      "\u001b[2m\u001b[36m(pid=85688)\u001b[0m 6 out of 15 evaluation iterations for Random.\n"
     ]
    },
    {
     "output_type": "stream",
     "name": "stderr",
     "text": [
      "/Users/david/Projects/datascope/experiments/plotter/FairnessPlotter.py:138: UserWarning: Matplotlib is currently using agg, which is a non-GUI backend, so cannot show the figure.\n",
      "  plt.show()\n"
     ]
    },
    {
     "output_type": "stream",
     "name": "stdout",
     "text": [
      "\u001b[2m\u001b[36m(pid=85392)\u001b[0m 15 out of 15 evaluation iterations for TMC-Shapley (cond).\n",
      "\u001b[2m\u001b[36m(pid=85680)\u001b[0m 6 out of 15 evaluation iterations for TMC-Shapley (cond).\n",
      "\u001b[2m\u001b[36m(pid=85679)\u001b[0m 12 out of 15 evaluation iterations for TMC-Shapley (cond).\n",
      "\u001b[2m\u001b[36m(pid=85715)\u001b[0m 3 out of 15 evaluation iterations for TMC-Shapley (cond).\n",
      "\u001b[2m\u001b[36m(pid=85690)\u001b[0m 9 out of 15 evaluation iterations for TMC-Shapley (cond).\n",
      "\u001b[2m\u001b[36m(pid=85392)\u001b[0m This solver needs samples of at least 2 classes in the data, but the data contains only one class: 0\n",
      "\u001b[2m\u001b[36m(pid=85680)\u001b[0m 9 out of 15 evaluation iterations for KNN-Shapley.\n",
      "\u001b[2m\u001b[36m(pid=85680)\u001b[0m 15 out of 15 evaluation iterations for TMC-Shapley.\n",
      "\u001b[2m\u001b[36m(pid=85680)\u001b[0m This solver needs samples of at least 2 classes in the data, but the data contains only one class: 1\n",
      "\u001b[2m\u001b[36m(pid=85681)\u001b[0m 9 out of 15 evaluation iterations for TMC-Shapley.\n",
      "\u001b[2m\u001b[36m(pid=85691)\u001b[0m 12 out of 15 evaluation iterations for TMC-Shapley.\n",
      "\u001b[2m\u001b[36m(pid=85715)\u001b[0m 15 out of 15 evaluation iterations for KNN-Shapley.\n",
      "\u001b[2m\u001b[36m(pid=85692)\u001b[0m 3 out of 15 evaluation iterations for TMC-Shapley.\n",
      "\u001b[2m\u001b[36m(pid=85696)\u001b[0m 12 out of 15 evaluation iterations for KNN-Shapley.\n",
      "\u001b[2m\u001b[36m(pid=85689)\u001b[0m This solver needs samples of at least 2 classes in the data, but the data contains only one class: 1\n",
      "\u001b[2m\u001b[36m(pid=85690)\u001b[0m 6 out of 15 evaluation iterations for KNN-Shapley.\n",
      "\u001b[2m\u001b[36m(pid=85688)\u001b[0m 3 out of 15 evaluation iterations for KNN-Shapley.\n",
      "\u001b[2m\u001b[36m(pid=85688)\u001b[0m 6 out of 15 evaluation iterations for TMC-Shapley.\n",
      "\u001b[2m\u001b[36m(pid=85691)\u001b[0m 3 out of 15 evaluation iterations for Random.\n",
      "\u001b[2m\u001b[36m(pid=85696)\u001b[0m 12 out of 15 evaluation iterations for Random.\n",
      "\u001b[2m\u001b[36m(pid=85695)\u001b[0m 6 out of 15 evaluation iterations for Random.\n",
      "\u001b[2m\u001b[36m(pid=85688)\u001b[0m 9 out of 15 evaluation iterations for Random.\n",
      "\u001b[2m\u001b[36m(pid=85688)\u001b[0m 15 out of 15 evaluation iterations for Random.\n",
      "\u001b[2m\u001b[36m(pid=85688)\u001b[0m This solver needs samples of at least 2 classes in the data, but the data contains only one class: 0\n",
      "[DataScope] => All experiments done!\n"
     ]
    },
    {
     "output_type": "stream",
     "name": "stderr",
     "text": [
      "/Users/david/Projects/datascope/experiments/plotter/FairnessPlotter.py:138: UserWarning: Matplotlib is currently using agg, which is a non-GUI backend, so cannot show the figure.\n",
      "  plt.show()\n"
     ]
    }
   ],
   "metadata": {}
  },
  {
   "cell_type": "code",
   "execution_count": 21,
   "source": [
    "# import numpy as np\n",
    "# forksets = list(range(10))\n",
    "# x = np.array(range(1, len(forksets) + 1)) / len(forksets) * 100\n",
    "# plot_length = len(forksets) // 10\n",
    "# x = np.append(x[0:-1:plot_length], x[-1])"
   ],
   "outputs": [],
   "metadata": {}
  },
  {
   "cell_type": "code",
   "execution_count": null,
   "source": [],
   "outputs": [],
   "metadata": {}
  }
 ],
 "metadata": {
  "interpreter": {
   "hash": "244f903178196d36fbfba2449c5f83f26f06c6159b04ebd44a04b5c6e8ea4107"
  },
  "kernelspec": {
   "name": "python3",
   "display_name": "Python 3.7.7 64-bit ('fastai2': conda)"
  },
  "language_info": {
   "codemirror_mode": {
    "name": "ipython",
    "version": 3
   },
   "file_extension": ".py",
   "mimetype": "text/x-python",
   "name": "python",
   "nbconvert_exporter": "python",
   "pygments_lexer": "ipython3",
   "version": "3.7.7"
  },
  "orig_nbformat": 4
 },
 "nbformat": 4,
 "nbformat_minor": 2
}