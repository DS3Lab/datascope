{
 "cells": [
  {
   "cell_type": "code",
   "execution_count": 1,
   "source": [
    "%load_ext autoreload\n",
    "%autoreload 2\n",
    "%matplotlib inline"
   ],
   "outputs": [],
   "metadata": {}
  },
  {
   "cell_type": "code",
   "execution_count": 2,
   "source": [
    "# from sklearn import set_config\n",
    "# set_config(display='diagram')\n",
    "\n",
    "from dspipes import Pipelines\n",
    "from Experiment import Experiment\n",
    "\n",
    "import numpy as np\n",
    "# CAUTION: forksets has to be an np array\n",
    "# forksets = []\n",
    "# for i in range(1000): \n",
    "#     forksets += 1 * [i]\n",
    "# forksets = np.array(forksets)\n",
    "# forksets\n"
   ],
   "outputs": [],
   "metadata": {}
  },
  {
   "cell_type": "code",
   "execution_count": 3,
   "source": [
    "# datasets = 20NewsGroups, UCI, FashionMNIST\n",
    "\n",
    "for i in range(0,6):\n",
    "    name = f'pipe_{i}'\n",
    "    model = Pipelines.create_numerical_pipeline(name, imputer=False)\n",
    "    exp_name = f'poisoning_test_UCI_{name}'\n",
    "    exp = Experiment(exp_name, model, dataset_name=\"UCI\", save_path=\"./\")\n",
    "    exp.run(iterations=1, run_poisoning=True, run_label=False, ray=True, truncated=True, run_forks=0)"
   ],
   "outputs": [
    {
     "output_type": "stream",
     "name": "stdout",
     "text": [
      "Initiate experiment poisoning_test_UCI_pipe_0-i-1-time-29-09-2021-14-49-43\n",
      "[DataScope] => Running poisoning experiment\n",
      "Successfully created the directory .//results/poisoning_test_UCI_pipe_0/i-1-time-29-09-2021-14-49-43/poisoning/\n",
      "[Datascope] => use tabular backdoors\n",
      "Pipeline(steps=[('identity',\n",
      "                 FunctionTransformer(func=<function process_pipe_condknn.<locals>.identity at 0x7fb4f537eb90>))])\n",
      "Pipeline(steps=[('classifier',\n",
      "                 LogisticRegression(max_iter=5000, random_state=666,\n",
      "                                    solver='liblinear'))])\n",
      "[DataScope] => Ray mode for TMC: True\n"
     ]
    },
    {
     "output_type": "stream",
     "name": "stderr",
     "text": [
      "/usr/local/anaconda3/envs/fastai2/lib/python3.7/site-packages/ray/_private/services.py:238: UserWarning: Not all Ray Dashboard dependencies were found. To use the dashboard please install Ray using `pip install ray[default]`. To disable this message, set RAY_DISABLE_IMPORT_WARNING env var to '1'.\n",
      "  warnings.warn(warning_message)\n"
     ]
    },
    {
     "output_type": "stream",
     "name": "stdout",
     "text": [
      "\u001b[2m\u001b[36m(pid=59873)\u001b[0m 1 out of 1 TMC_Shapley iterations.\n",
      "Pipeline(steps=[('identity',\n",
      "                 FunctionTransformer(func=<function get_pipe_ops.<locals>.identity at 0x7fb50bee88c0>)),\n",
      "                ('knn', KNeighborsClassifier(n_neighbors=1))])\n",
      "[DataScope] => Ray mode for TMC: True\n",
      "\u001b[2m\u001b[36m(pid=59873)\u001b[0m 1 out of 1 TMC_Shapley iterations.\n"
     ]
    },
    {
     "output_type": "stream",
     "name": "stderr",
     "text": [
      "\u001b[2m\u001b[36m(pid=59873)\u001b[0m 2021-09-29 14:49:51,692\tERROR serialization.py:256 -- buffer source array is read-only\n",
      "\u001b[2m\u001b[36m(pid=59873)\u001b[0m Traceback (most recent call last):\n",
      "\u001b[2m\u001b[36m(pid=59873)\u001b[0m   File \"/usr/local/anaconda3/envs/fastai2/lib/python3.7/site-packages/ray/serialization.py\", line 254, in deserialize_objects\n",
      "\u001b[2m\u001b[36m(pid=59873)\u001b[0m     obj = self._deserialize_object(data, metadata, object_ref)\n",
      "\u001b[2m\u001b[36m(pid=59873)\u001b[0m   File \"/usr/local/anaconda3/envs/fastai2/lib/python3.7/site-packages/ray/serialization.py\", line 190, in _deserialize_object\n",
      "\u001b[2m\u001b[36m(pid=59873)\u001b[0m     return self._deserialize_msgpack_data(data, metadata_fields)\n",
      "\u001b[2m\u001b[36m(pid=59873)\u001b[0m   File \"/usr/local/anaconda3/envs/fastai2/lib/python3.7/site-packages/ray/serialization.py\", line 168, in _deserialize_msgpack_data\n",
      "\u001b[2m\u001b[36m(pid=59873)\u001b[0m     python_objects = self._deserialize_pickle5_data(pickle5_data)\n",
      "\u001b[2m\u001b[36m(pid=59873)\u001b[0m   File \"/usr/local/anaconda3/envs/fastai2/lib/python3.7/site-packages/ray/serialization.py\", line 156, in _deserialize_pickle5_data\n",
      "\u001b[2m\u001b[36m(pid=59873)\u001b[0m     obj = pickle.loads(in_band, buffers=buffers)\n",
      "\u001b[2m\u001b[36m(pid=59873)\u001b[0m   File \"sklearn/neighbors/_dist_metrics.pyx\", line 223, in sklearn.neighbors._dist_metrics.DistanceMetric.__setstate__\n",
      "\u001b[2m\u001b[36m(pid=59873)\u001b[0m   File \"stringsource\", line 658, in View.MemoryView.memoryview_cwrapper\n",
      "\u001b[2m\u001b[36m(pid=59873)\u001b[0m   File \"stringsource\", line 349, in View.MemoryView.memoryview.__cinit__\n",
      "\u001b[2m\u001b[36m(pid=59873)\u001b[0m ValueError: buffer source array is read-only\n"
     ]
    },
    {
     "output_type": "error",
     "ename": "RayTaskError",
     "evalue": "\u001b[36mray::call_partial_one_iteration()\u001b[39m (pid=59873, ip=192.168.1.167)\n  File \"/usr/local/anaconda3/envs/fastai2/lib/python3.7/site-packages/datascope/algorithms/TMC_Shapley.py\", line 138, in call_partial_one_iteration\n    return partial_one_iteration(iteration=iteration)\n  File \"/usr/local/anaconda3/envs/fastai2/lib/python3.7/site-packages/datascope/algorithms/TMC_Shapley.py\", line 28, in one_iteration\n    model = ray.get(model)\nray.exceptions.RaySystemError: System error: buffer source array is read-only\ntraceback: Traceback (most recent call last):\n  File \"/usr/local/anaconda3/envs/fastai2/lib/python3.7/site-packages/ray/serialization.py\", line 254, in deserialize_objects\n    obj = self._deserialize_object(data, metadata, object_ref)\n  File \"/usr/local/anaconda3/envs/fastai2/lib/python3.7/site-packages/ray/serialization.py\", line 190, in _deserialize_object\n    return self._deserialize_msgpack_data(data, metadata_fields)\n  File \"/usr/local/anaconda3/envs/fastai2/lib/python3.7/site-packages/ray/serialization.py\", line 168, in _deserialize_msgpack_data\n    python_objects = self._deserialize_pickle5_data(pickle5_data)\n  File \"/usr/local/anaconda3/envs/fastai2/lib/python3.7/site-packages/ray/serialization.py\", line 156, in _deserialize_pickle5_data\n    obj = pickle.loads(in_band, buffers=buffers)\n  File \"sklearn/neighbors/_dist_metrics.pyx\", line 223, in sklearn.neighbors._dist_metrics.DistanceMetric.__setstate__\n  File \"stringsource\", line 658, in View.MemoryView.memoryview_cwrapper\n  File \"stringsource\", line 349, in View.MemoryView.memoryview.__cinit__\nValueError: buffer source array is read-only",
     "traceback": [
      "\u001b[0;31m---------------------------------------------------------------------------\u001b[0m",
      "\u001b[0;31mRayTaskError\u001b[0m                              Traceback (most recent call last)",
      "\u001b[0;32m<ipython-input-3-f71366e8d843>\u001b[0m in \u001b[0;36m<module>\u001b[0;34m\u001b[0m\n\u001b[1;32m      6\u001b[0m     \u001b[0mexp_name\u001b[0m \u001b[0;34m=\u001b[0m \u001b[0;34mf'poisoning_test_UCI_{name}'\u001b[0m\u001b[0;34m\u001b[0m\u001b[0;34m\u001b[0m\u001b[0m\n\u001b[1;32m      7\u001b[0m     \u001b[0mexp\u001b[0m \u001b[0;34m=\u001b[0m \u001b[0mExperiment\u001b[0m\u001b[0;34m(\u001b[0m\u001b[0mexp_name\u001b[0m\u001b[0;34m,\u001b[0m \u001b[0mmodel\u001b[0m\u001b[0;34m,\u001b[0m \u001b[0mdataset_name\u001b[0m\u001b[0;34m=\u001b[0m\u001b[0;34m\"UCI\"\u001b[0m\u001b[0;34m,\u001b[0m \u001b[0msave_path\u001b[0m\u001b[0;34m=\u001b[0m\u001b[0;34m\"./\"\u001b[0m\u001b[0;34m)\u001b[0m\u001b[0;34m\u001b[0m\u001b[0;34m\u001b[0m\u001b[0m\n\u001b[0;32m----> 8\u001b[0;31m     \u001b[0mexp\u001b[0m\u001b[0;34m.\u001b[0m\u001b[0mrun\u001b[0m\u001b[0;34m(\u001b[0m\u001b[0miterations\u001b[0m\u001b[0;34m=\u001b[0m\u001b[0;36m1\u001b[0m\u001b[0;34m,\u001b[0m \u001b[0mrun_poisoning\u001b[0m\u001b[0;34m=\u001b[0m\u001b[0;32mTrue\u001b[0m\u001b[0;34m,\u001b[0m \u001b[0mrun_label\u001b[0m\u001b[0;34m=\u001b[0m\u001b[0;32mFalse\u001b[0m\u001b[0;34m,\u001b[0m \u001b[0mray\u001b[0m\u001b[0;34m=\u001b[0m\u001b[0;32mTrue\u001b[0m\u001b[0;34m,\u001b[0m \u001b[0mtruncated\u001b[0m\u001b[0;34m=\u001b[0m\u001b[0;32mTrue\u001b[0m\u001b[0;34m,\u001b[0m \u001b[0mrun_forks\u001b[0m\u001b[0;34m=\u001b[0m\u001b[0;36m0\u001b[0m\u001b[0;34m)\u001b[0m\u001b[0;34m\u001b[0m\u001b[0;34m\u001b[0m\u001b[0m\n\u001b[0m",
      "\u001b[0;32m~/Projects/datascope/experiments/Experiment.py\u001b[0m in \u001b[0;36mrun\u001b[0;34m(self, iterations, run_label, run_poisoning, run_feature, run_fairness, run_augmentation, run_performance, ray, truncated, forksets, run_forks)\u001b[0m\n\u001b[1;32m     71\u001b[0m             \u001b[0mprint\u001b[0m\u001b[0;34m(\u001b[0m\u001b[0;34m'[DataScope] => Running poisoning experiment'\u001b[0m\u001b[0;34m)\u001b[0m\u001b[0;34m\u001b[0m\u001b[0;34m\u001b[0m\u001b[0m\n\u001b[1;32m     72\u001b[0m             \u001b[0mcreate_dirs\u001b[0m\u001b[0;34m(\u001b[0m\u001b[0;34mf'{self.custom_save_path}/results/{name}/i-{iterations}-time-{dt_string}/poisoning/'\u001b[0m\u001b[0;34m)\u001b[0m\u001b[0;34m\u001b[0m\u001b[0;34m\u001b[0m\u001b[0m\n\u001b[0;32m---> 73\u001b[0;31m             \u001b[0mself\u001b[0m\u001b[0;34m.\u001b[0m\u001b[0mrun_poisoning_experiment\u001b[0m\u001b[0;34m(\u001b[0m\u001b[0miterations\u001b[0m\u001b[0;34m,\u001b[0m \u001b[0mdt_string\u001b[0m\u001b[0;34m,\u001b[0m \u001b[0mray\u001b[0m\u001b[0;34m,\u001b[0m \u001b[0mtruncated\u001b[0m\u001b[0;34m,\u001b[0m \u001b[0mforksets\u001b[0m\u001b[0;34m=\u001b[0m\u001b[0mforksets\u001b[0m\u001b[0;34m,\u001b[0m \u001b[0mflatten\u001b[0m\u001b[0;34m=\u001b[0m\u001b[0mflatten\u001b[0m\u001b[0;34m)\u001b[0m\u001b[0;34m\u001b[0m\u001b[0;34m\u001b[0m\u001b[0m\n\u001b[0m\u001b[1;32m     74\u001b[0m         \u001b[0;32mif\u001b[0m \u001b[0mrun_feature\u001b[0m\u001b[0;34m:\u001b[0m\u001b[0;34m\u001b[0m\u001b[0;34m\u001b[0m\u001b[0m\n\u001b[1;32m     75\u001b[0m             \u001b[0mprint\u001b[0m\u001b[0;34m(\u001b[0m\u001b[0;34m'[DataScope] => Running feature noise experiment'\u001b[0m\u001b[0;34m)\u001b[0m\u001b[0;34m\u001b[0m\u001b[0;34m\u001b[0m\u001b[0m\n",
      "\u001b[0;32m~/Projects/datascope/experiments/Experiment.py\u001b[0m in \u001b[0;36mrun_poisoning_experiment\u001b[0;34m(self, iterations, dt_string, ray, truncated, forksets, flatten)\u001b[0m\n\u001b[1;32m    307\u001b[0m \u001b[0;34m\u001b[0m\u001b[0m\n\u001b[1;32m    308\u001b[0m         \u001b[0mstart\u001b[0m \u001b[0;34m=\u001b[0m \u001b[0mtime\u001b[0m\u001b[0;34m.\u001b[0m\u001b[0mtime\u001b[0m\u001b[0;34m(\u001b[0m\u001b[0;34m)\u001b[0m\u001b[0;34m\u001b[0m\u001b[0;34m\u001b[0m\u001b[0m\n\u001b[0;32m--> 309\u001b[0;31m         \u001b[0mres_poisoning_knn\u001b[0m \u001b[0;34m=\u001b[0m \u001b[0mapp_poisoning\u001b[0m\u001b[0;34m.\u001b[0m\u001b[0mrun\u001b[0m\u001b[0;34m(\u001b[0m\u001b[0mmeasure_TMC\u001b[0m\u001b[0;34m,\u001b[0m \u001b[0mmodel_family\u001b[0m\u001b[0;34m=\u001b[0m\u001b[0;34m'custom'\u001b[0m\u001b[0;34m,\u001b[0m \u001b[0mtransform\u001b[0m\u001b[0;34m=\u001b[0m\u001b[0mtransform_knn\u001b[0m\u001b[0;34m,\u001b[0m \u001b[0mpipeline\u001b[0m\u001b[0;34m=\u001b[0m\u001b[0mpipeline_knn\u001b[0m\u001b[0;34m,\u001b[0m \u001b[0mforksets\u001b[0m\u001b[0;34m=\u001b[0m\u001b[0mforksets\u001b[0m\u001b[0;34m)\u001b[0m\u001b[0;34m\u001b[0m\u001b[0;34m\u001b[0m\u001b[0m\n\u001b[0m\u001b[1;32m    310\u001b[0m         \u001b[0mend\u001b[0m \u001b[0;34m=\u001b[0m \u001b[0mtime\u001b[0m\u001b[0;34m.\u001b[0m\u001b[0mtime\u001b[0m\u001b[0;34m(\u001b[0m\u001b[0;34m)\u001b[0m\u001b[0;34m\u001b[0m\u001b[0;34m\u001b[0m\u001b[0m\n\u001b[1;32m    311\u001b[0m         \u001b[0mtime_knn\u001b[0m \u001b[0;34m=\u001b[0m \u001b[0mend\u001b[0m \u001b[0;34m-\u001b[0m \u001b[0mstart\u001b[0m\u001b[0;34m\u001b[0m\u001b[0;34m\u001b[0m\u001b[0m\n",
      "\u001b[0;32m~/Projects/datascope/experiments/apps/Poisoning.py\u001b[0m in \u001b[0;36mrun\u001b[0;34m(self, measure, model_family, transform, **kwargs)\u001b[0m\n\u001b[1;32m     84\u001b[0m \u001b[0;34m\u001b[0m\u001b[0m\n\u001b[1;32m     85\u001b[0m         \u001b[0mself\u001b[0m\u001b[0;34m.\u001b[0m\u001b[0mforksets\u001b[0m \u001b[0;34m=\u001b[0m \u001b[0mdshap\u001b[0m\u001b[0;34m.\u001b[0m\u001b[0mget_forksets\u001b[0m\u001b[0;34m(\u001b[0m\u001b[0;34m)\u001b[0m\u001b[0;34m\u001b[0m\u001b[0;34m\u001b[0m\u001b[0m\n\u001b[0;32m---> 86\u001b[0;31m         \u001b[0mself\u001b[0m\u001b[0;34m.\u001b[0m\u001b[0mshapleys\u001b[0m \u001b[0;34m=\u001b[0m \u001b[0mdshap\u001b[0m\u001b[0;34m.\u001b[0m\u001b[0mrun\u001b[0m\u001b[0;34m(\u001b[0m\u001b[0msave_every\u001b[0m\u001b[0;34m=\u001b[0m\u001b[0;36m10\u001b[0m\u001b[0;34m,\u001b[0m \u001b[0merr\u001b[0m\u001b[0;34m=\u001b[0m\u001b[0;36m0.5\u001b[0m\u001b[0;34m)\u001b[0m\u001b[0;34m\u001b[0m\u001b[0;34m\u001b[0m\u001b[0m\n\u001b[0m\u001b[1;32m     87\u001b[0m \u001b[0;34m\u001b[0m\u001b[0m\n\u001b[1;32m     88\u001b[0m         \u001b[0;32mreturn\u001b[0m \u001b[0mself\u001b[0m\u001b[0;34m.\u001b[0m\u001b[0mshapleys\u001b[0m\u001b[0;34m\u001b[0m\u001b[0;34m\u001b[0m\u001b[0m\n",
      "\u001b[0;32m/usr/local/anaconda3/envs/fastai2/lib/python3.7/site-packages/datascope/utils/DShap.py\u001b[0m in \u001b[0;36mrun\u001b[0;34m(self, save_every, err, tolerance, knn_run, tmc_run, g_run, loo_run)\u001b[0m\n\u001b[1;32m    149\u001b[0m         \u001b[0mself\u001b[0m\u001b[0;34m.\u001b[0m\u001b[0mrestart_model\u001b[0m\u001b[0;34m(\u001b[0m\u001b[0;34m)\u001b[0m\u001b[0;34m\u001b[0m\u001b[0;34m\u001b[0m\u001b[0m\n\u001b[1;32m    150\u001b[0m         \u001b[0mself\u001b[0m\u001b[0;34m.\u001b[0m\u001b[0mmodel\u001b[0m\u001b[0;34m.\u001b[0m\u001b[0mfit\u001b[0m\u001b[0;34m(\u001b[0m\u001b[0mself\u001b[0m\u001b[0;34m.\u001b[0m\u001b[0mX\u001b[0m\u001b[0;34m,\u001b[0m \u001b[0mself\u001b[0m\u001b[0;34m.\u001b[0m\u001b[0my\u001b[0m\u001b[0;34m)\u001b[0m\u001b[0;34m\u001b[0m\u001b[0;34m\u001b[0m\u001b[0m\n\u001b[0;32m--> 151\u001b[0;31m         \u001b[0;32mreturn\u001b[0m \u001b[0mself\u001b[0m\u001b[0;34m.\u001b[0m\u001b[0mmeasure\u001b[0m\u001b[0;34m.\u001b[0m\u001b[0mscore\u001b[0m\u001b[0;34m(\u001b[0m\u001b[0mself\u001b[0m\u001b[0;34m.\u001b[0m\u001b[0mX\u001b[0m\u001b[0;34m,\u001b[0m \u001b[0mself\u001b[0m\u001b[0;34m.\u001b[0m\u001b[0my\u001b[0m\u001b[0;34m,\u001b[0m \u001b[0mself\u001b[0m\u001b[0;34m.\u001b[0m\u001b[0mX_test\u001b[0m\u001b[0;34m,\u001b[0m \u001b[0mself\u001b[0m\u001b[0;34m.\u001b[0m\u001b[0my_test\u001b[0m\u001b[0;34m,\u001b[0m \u001b[0mmodel_family\u001b[0m\u001b[0;34m=\u001b[0m\u001b[0mself\u001b[0m\u001b[0;34m.\u001b[0m\u001b[0mmodel_family\u001b[0m\u001b[0;34m,\u001b[0m \u001b[0mmodel\u001b[0m\u001b[0;34m=\u001b[0m\u001b[0mself\u001b[0m\u001b[0;34m.\u001b[0m\u001b[0mmodel\u001b[0m\u001b[0;34m,\u001b[0m \u001b[0mforksets\u001b[0m\u001b[0;34m=\u001b[0m\u001b[0mself\u001b[0m\u001b[0;34m.\u001b[0m\u001b[0mforksets\u001b[0m\u001b[0;34m)\u001b[0m\u001b[0;34m\u001b[0m\u001b[0;34m\u001b[0m\u001b[0m\n\u001b[0m\u001b[1;32m    152\u001b[0m \u001b[0;34m\u001b[0m\u001b[0m\n\u001b[1;32m    153\u001b[0m     \u001b[0;32mdef\u001b[0m \u001b[0mget_forksets\u001b[0m\u001b[0;34m(\u001b[0m\u001b[0mself\u001b[0m\u001b[0;34m)\u001b[0m\u001b[0;34m:\u001b[0m\u001b[0;34m\u001b[0m\u001b[0;34m\u001b[0m\u001b[0m\n",
      "\u001b[0;32m/usr/local/anaconda3/envs/fastai2/lib/python3.7/site-packages/datascope/algorithms/TMC_Shapley.py\u001b[0m in \u001b[0;36mscore\u001b[0;34m(self, X_train, y_train, X_test, y_test, model_family, model, tolerance, forksets)\u001b[0m\n\u001b[1;32m    145\u001b[0m                 \u001b[0;31m#idxs_tmc = np.concatenate([idxs_tmc, np.reshape(idxs, (1,-1))])\u001b[0m\u001b[0;34m\u001b[0m\u001b[0;34m\u001b[0m\u001b[0;34m\u001b[0m\u001b[0m\n\u001b[1;32m    146\u001b[0m             \u001b[0mfutures\u001b[0m \u001b[0;34m=\u001b[0m \u001b[0;34m[\u001b[0m\u001b[0mcall_partial_one_iteration\u001b[0m\u001b[0;34m.\u001b[0m\u001b[0mremote\u001b[0m\u001b[0;34m(\u001b[0m\u001b[0miteration\u001b[0m\u001b[0;34m)\u001b[0m \u001b[0;32mfor\u001b[0m \u001b[0miteration\u001b[0m \u001b[0;32min\u001b[0m \u001b[0mrange\u001b[0m\u001b[0;34m(\u001b[0m\u001b[0miterations\u001b[0m\u001b[0;34m)\u001b[0m\u001b[0;34m]\u001b[0m\u001b[0;34m\u001b[0m\u001b[0;34m\u001b[0m\u001b[0m\n\u001b[0;32m--> 147\u001b[0;31m             \u001b[0mget_futures\u001b[0m \u001b[0;34m=\u001b[0m \u001b[0mnp\u001b[0m\u001b[0;34m.\u001b[0m\u001b[0marray\u001b[0m\u001b[0;34m(\u001b[0m\u001b[0mray\u001b[0m\u001b[0;34m.\u001b[0m\u001b[0mget\u001b[0m\u001b[0;34m(\u001b[0m\u001b[0mfutures\u001b[0m\u001b[0;34m)\u001b[0m\u001b[0;34m)\u001b[0m\u001b[0;34m\u001b[0m\u001b[0;34m\u001b[0m\u001b[0m\n\u001b[0m\u001b[1;32m    148\u001b[0m             \u001b[0;31m# print(get_futures.shape)\u001b[0m\u001b[0;34m\u001b[0m\u001b[0;34m\u001b[0m\u001b[0;34m\u001b[0m\u001b[0m\n\u001b[1;32m    149\u001b[0m             \u001b[0;31m# print(\"mem_tmc\", mem_tmc)\u001b[0m\u001b[0;34m\u001b[0m\u001b[0;34m\u001b[0m\u001b[0;34m\u001b[0m\u001b[0m\n",
      "\u001b[0;32m/usr/local/anaconda3/envs/fastai2/lib/python3.7/site-packages/ray/_private/client_mode_hook.py\u001b[0m in \u001b[0;36mwrapper\u001b[0;34m(*args, **kwargs)\u001b[0m\n\u001b[1;32m     80\u001b[0m         \u001b[0;32mif\u001b[0m \u001b[0mclient_mode_should_convert\u001b[0m\u001b[0;34m(\u001b[0m\u001b[0;34m)\u001b[0m\u001b[0;34m:\u001b[0m\u001b[0;34m\u001b[0m\u001b[0;34m\u001b[0m\u001b[0m\n\u001b[1;32m     81\u001b[0m             \u001b[0;32mreturn\u001b[0m \u001b[0mgetattr\u001b[0m\u001b[0;34m(\u001b[0m\u001b[0mray\u001b[0m\u001b[0;34m,\u001b[0m \u001b[0mfunc\u001b[0m\u001b[0;34m.\u001b[0m\u001b[0m__name__\u001b[0m\u001b[0;34m)\u001b[0m\u001b[0;34m(\u001b[0m\u001b[0;34m*\u001b[0m\u001b[0margs\u001b[0m\u001b[0;34m,\u001b[0m \u001b[0;34m**\u001b[0m\u001b[0mkwargs\u001b[0m\u001b[0;34m)\u001b[0m\u001b[0;34m\u001b[0m\u001b[0;34m\u001b[0m\u001b[0m\n\u001b[0;32m---> 82\u001b[0;31m         \u001b[0;32mreturn\u001b[0m \u001b[0mfunc\u001b[0m\u001b[0;34m(\u001b[0m\u001b[0;34m*\u001b[0m\u001b[0margs\u001b[0m\u001b[0;34m,\u001b[0m \u001b[0;34m**\u001b[0m\u001b[0mkwargs\u001b[0m\u001b[0;34m)\u001b[0m\u001b[0;34m\u001b[0m\u001b[0;34m\u001b[0m\u001b[0m\n\u001b[0m\u001b[1;32m     83\u001b[0m \u001b[0;34m\u001b[0m\u001b[0m\n\u001b[1;32m     84\u001b[0m     \u001b[0;32mreturn\u001b[0m \u001b[0mwrapper\u001b[0m\u001b[0;34m\u001b[0m\u001b[0;34m\u001b[0m\u001b[0m\n",
      "\u001b[0;32m/usr/local/anaconda3/envs/fastai2/lib/python3.7/site-packages/ray/worker.py\u001b[0m in \u001b[0;36mget\u001b[0;34m(object_refs, timeout)\u001b[0m\n\u001b[1;32m   1619\u001b[0m                     \u001b[0mworker\u001b[0m\u001b[0;34m.\u001b[0m\u001b[0mcore_worker\u001b[0m\u001b[0;34m.\u001b[0m\u001b[0mdump_object_store_memory_usage\u001b[0m\u001b[0;34m(\u001b[0m\u001b[0;34m)\u001b[0m\u001b[0;34m\u001b[0m\u001b[0;34m\u001b[0m\u001b[0m\n\u001b[1;32m   1620\u001b[0m                 \u001b[0;32mif\u001b[0m \u001b[0misinstance\u001b[0m\u001b[0;34m(\u001b[0m\u001b[0mvalue\u001b[0m\u001b[0;34m,\u001b[0m \u001b[0mRayTaskError\u001b[0m\u001b[0;34m)\u001b[0m\u001b[0;34m:\u001b[0m\u001b[0;34m\u001b[0m\u001b[0;34m\u001b[0m\u001b[0m\n\u001b[0;32m-> 1621\u001b[0;31m                     \u001b[0;32mraise\u001b[0m \u001b[0mvalue\u001b[0m\u001b[0;34m.\u001b[0m\u001b[0mas_instanceof_cause\u001b[0m\u001b[0;34m(\u001b[0m\u001b[0;34m)\u001b[0m\u001b[0;34m\u001b[0m\u001b[0;34m\u001b[0m\u001b[0m\n\u001b[0m\u001b[1;32m   1622\u001b[0m                 \u001b[0;32melse\u001b[0m\u001b[0;34m:\u001b[0m\u001b[0;34m\u001b[0m\u001b[0;34m\u001b[0m\u001b[0m\n\u001b[1;32m   1623\u001b[0m                     \u001b[0;32mraise\u001b[0m \u001b[0mvalue\u001b[0m\u001b[0;34m\u001b[0m\u001b[0;34m\u001b[0m\u001b[0m\n",
      "\u001b[0;31mRayTaskError\u001b[0m: \u001b[36mray::call_partial_one_iteration()\u001b[39m (pid=59873, ip=192.168.1.167)\n  File \"/usr/local/anaconda3/envs/fastai2/lib/python3.7/site-packages/datascope/algorithms/TMC_Shapley.py\", line 138, in call_partial_one_iteration\n    return partial_one_iteration(iteration=iteration)\n  File \"/usr/local/anaconda3/envs/fastai2/lib/python3.7/site-packages/datascope/algorithms/TMC_Shapley.py\", line 28, in one_iteration\n    model = ray.get(model)\nray.exceptions.RaySystemError: System error: buffer source array is read-only\ntraceback: Traceback (most recent call last):\n  File \"/usr/local/anaconda3/envs/fastai2/lib/python3.7/site-packages/ray/serialization.py\", line 254, in deserialize_objects\n    obj = self._deserialize_object(data, metadata, object_ref)\n  File \"/usr/local/anaconda3/envs/fastai2/lib/python3.7/site-packages/ray/serialization.py\", line 190, in _deserialize_object\n    return self._deserialize_msgpack_data(data, metadata_fields)\n  File \"/usr/local/anaconda3/envs/fastai2/lib/python3.7/site-packages/ray/serialization.py\", line 168, in _deserialize_msgpack_data\n    python_objects = self._deserialize_pickle5_data(pickle5_data)\n  File \"/usr/local/anaconda3/envs/fastai2/lib/python3.7/site-packages/ray/serialization.py\", line 156, in _deserialize_pickle5_data\n    obj = pickle.loads(in_band, buffers=buffers)\n  File \"sklearn/neighbors/_dist_metrics.pyx\", line 223, in sklearn.neighbors._dist_metrics.DistanceMetric.__setstate__\n  File \"stringsource\", line 658, in View.MemoryView.memoryview_cwrapper\n  File \"stringsource\", line 349, in View.MemoryView.memoryview.__cinit__\nValueError: buffer source array is read-only"
     ]
    }
   ],
   "metadata": {}
  },
  {
   "cell_type": "code",
   "execution_count": null,
   "source": [
    "from datasets import load_dataset\n",
    "dataset = load_dataset('imdb')\n"
   ],
   "outputs": [],
   "metadata": {}
  },
  {
   "cell_type": "code",
   "execution_count": null,
   "source": [
    "dataset['train']['text'][:1000]"
   ],
   "outputs": [],
   "metadata": {}
  },
  {
   "cell_type": "code",
   "execution_count": null,
   "source": [],
   "outputs": [],
   "metadata": {}
  }
 ],
 "metadata": {
  "interpreter": {
   "hash": "244f903178196d36fbfba2449c5f83f26f06c6159b04ebd44a04b5c6e8ea4107"
  },
  "kernelspec": {
   "name": "python3",
   "display_name": "Python 3.7.7 64-bit ('fastai2': conda)"
  },
  "language_info": {
   "codemirror_mode": {
    "name": "ipython",
    "version": 3
   },
   "file_extension": ".py",
   "mimetype": "text/x-python",
   "name": "python",
   "nbconvert_exporter": "python",
   "pygments_lexer": "ipython3",
   "version": "3.7.7"
  },
  "orig_nbformat": 4
 },
 "nbformat": 4,
 "nbformat_minor": 2
}