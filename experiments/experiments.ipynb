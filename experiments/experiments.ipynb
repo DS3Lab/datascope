{
 "cells": [
  {
   "cell_type": "code",
   "execution_count": null,
   "source": [
    "%load_ext autoreload\n",
    "%autoreload 2\n",
    "%matplotlib inline"
   ],
   "outputs": [],
   "metadata": {}
  },
  {
   "cell_type": "code",
   "execution_count": null,
   "source": [
    "# from sklearn import set_config\n",
    "# set_config(display='diagram')\n",
    "\n",
    "from dspipes import Pipelines, TextPipeline\n",
    "from Experiment import Experiment\n",
    "\n",
    "import numpy as np\n",
    "# CAUTION: forksets has to be an np array\n",
    "forksets = []\n",
    "for i in range(1000): \n",
    "    forksets += 1 * [i]\n",
    "forksets = np.array(forksets)\n",
    "forksets\n"
   ],
   "outputs": [],
   "metadata": {}
  },
  {
   "cell_type": "code",
   "execution_count": null,
   "source": [
    "for i in range(0,6):\n",
    "    name = f'pipe_{i}'\n",
    "    model = Pipelines.create_numerical_pipeline(name, imputer=False)\n",
    "    exp_name = f'forks_test_{name}'\n",
    "    exp = Experiment(exp_name, model, dataset_name=\"UCI\", save_path=\"/Users/david/Desktop\")\n",
    "    if i == 7: \n",
    "        exp.run(iterations=1, run_label=False, run_poisoning=False, run_fairness=False, ray=True, flatten=False, truncated=True, run_forks=100)\n",
    "    else:\n",
    "        exp.run(iterations=1, run_label=True, run_poisoning=True, run_fairness=False, ray=True, truncated=True, run_forks=100)"
   ],
   "outputs": [],
   "metadata": {}
  },
  {
   "cell_type": "code",
   "execution_count": null,
   "source": [
    "from loader import FashionMnist\n",
    "from apps import Label\n",
    "\n",
    "loader = FashionMnist(num_train=1000, flatten=False)\n",
    "\n",
    "X_train, y_train, X_test, y_test = loader.prepare_data()\n",
    "\n",
    "app_label = Label(X_train, y_train, X_test, y_test, flatten=False)\n",
    "\n",
    "forks = app_label.get_interesting_forks(10)\n",
    "import numpy as np"
   ],
   "outputs": [],
   "metadata": {}
  },
  {
   "cell_type": "code",
   "execution_count": null,
   "source": [],
   "outputs": [],
   "metadata": {}
  }
 ],
 "metadata": {
  "interpreter": {
   "hash": "244f903178196d36fbfba2449c5f83f26f06c6159b04ebd44a04b5c6e8ea4107"
  },
  "kernelspec": {
   "name": "python3",
   "display_name": "Python 3.7.7 64-bit ('fastai2': conda)"
  },
  "language_info": {
   "codemirror_mode": {
    "name": "ipython",
    "version": 3
   },
   "file_extension": ".py",
   "mimetype": "text/x-python",
   "name": "python",
   "nbconvert_exporter": "python",
   "pygments_lexer": "ipython3",
   "version": "3.7.7"
  },
  "orig_nbformat": 4
 },
 "nbformat": 4,
 "nbformat_minor": 2
}