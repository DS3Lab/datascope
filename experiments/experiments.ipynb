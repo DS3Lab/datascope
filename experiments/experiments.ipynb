{
 "cells": [
  {
   "cell_type": "code",
   "execution_count": null,
   "source": [
    "%load_ext autoreload\n",
    "%autoreload 2\n",
    "%matplotlib inline"
   ],
   "outputs": [],
   "metadata": {}
  },
  {
   "cell_type": "code",
   "execution_count": null,
   "source": [
    "# from sklearn import set_config\n",
    "# set_config(display='diagram')\n",
    "\n",
    "from dspipes import Pipelines, TextPipeline\n",
    "from Experiment import Experiment"
   ],
   "outputs": [],
   "metadata": {}
  },
  {
   "cell_type": "code",
   "execution_count": null,
   "source": [
    "for i in range(0,7):\n",
    "    name = f'pipe_{i}'\n",
    "    model = Pipelines.create_numerical_pipeline(name, imputer=False)\n",
    "    exp_name = f'uci_label_{name}'\n",
    "    exp = Experiment(exp_name, model, dataset_name=\"UCI\")\n",
    "    if i == 7: \n",
    "        exp.run(iterations=2000, run_label=True, run_poisoning=False, run_fairness=False, ray=True, flatten=False, truncated=True)\n",
    "    else:\n",
    "        exp.run(iterations=2000, run_label=True, run_poisoning=True, run_fairness=True, ray=True, truncated=True)"
   ],
   "outputs": [],
   "metadata": {}
  },
  {
   "cell_type": "code",
   "execution_count": null,
   "source": [],
   "outputs": [],
   "metadata": {}
  }
 ],
 "metadata": {
  "interpreter": {
   "hash": "ef53dea1fad49daf30b71adbbc57c745033606a4b172566c9d43a4236b6a4b07"
  },
  "kernelspec": {
   "name": "python3",
   "display_name": "Python 3.8.10 64-bit ('datascope': conda)"
  },
  "language_info": {
   "codemirror_mode": {
    "name": "ipython",
    "version": 3
   },
   "file_extension": ".py",
   "mimetype": "text/x-python",
   "name": "python",
   "nbconvert_exporter": "python",
   "pygments_lexer": "ipython3",
   "version": "3.8.10"
  },
  "orig_nbformat": 4
 },
 "nbformat": 4,
 "nbformat_minor": 2
}