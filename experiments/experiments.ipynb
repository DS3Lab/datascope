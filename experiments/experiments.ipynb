{
 "cells": [
  {
   "cell_type": "code",
   "execution_count": 1,
   "source": [
    "%load_ext autoreload\n",
    "%autoreload 2\n",
    "%matplotlib inline"
   ],
   "outputs": [],
   "metadata": {}
  },
  {
   "cell_type": "code",
   "execution_count": 2,
   "source": [
    "# from sklearn import set_config\n",
    "# set_config(display='diagram')\n",
    "\n",
    "from dspipes import Pipelines\n",
    "from Experiment import Experiment\n",
    "\n",
    "import numpy as np\n",
    "# CAUTION: forksets has to be an np array\n",
    "# forksets = []\n",
    "# for i in range(1000): \n",
    "#     forksets += 1 * [i]\n",
    "# forksets = np.array(forksets)\n",
    "# forksets\n"
   ],
   "outputs": [],
   "metadata": {}
  },
  {
   "cell_type": "code",
   "execution_count": 3,
   "source": [
    "# datasets = 20NewsGroups, UCI, FashionMNIST\n",
    "\n",
    "settings = {\n",
    "    'iterations': 1000, # number of MC iterations\n",
    "    'run_feature': True, # what experiment \n",
    "    'ray': True, # use ray?\n",
    "    'truncated': True, # TMC or MC?\n",
    "    'run_forks': 0 # use forks? how many?\n",
    "}\n",
    "\n",
    "for i in range(0,7):\n",
    "    name = f'pipe_{i}'\n",
    "    model = Pipelines.create_numerical_pipeline(name, imputer=False)\n",
    "    exp_name = f'feature_i_1000_FashionMNIST_sigma_10_{name}'\n",
    "    exp = Experiment(exp_name, model, dataset_name=\"FashionMNIST\", save_path=\"./\")\n",
    "    exp.run(**settings)"
   ],
   "outputs": [
    {
     "output_type": "stream",
     "name": "stdout",
     "text": [
      "Initiate experiment feature_test_FashionMNIST_sigma_10_pipe_0-i-1-time-29-09-2021-15-22-14\n",
      "[DataScope] => Running feature noise experiment\n",
      "Successfully created the directory .//results/feature_test_FashionMNIST_sigma_10_pipe_0/i-1-time-29-09-2021-15-22-14/feature/\n",
      "Pipeline(steps=[('identity',\n",
      "                 FunctionTransformer(func=<function process_pipe_condknn.<locals>.identity at 0x7ff4fdaddb90>))])\n",
      "Pipeline(steps=[('classifier',\n",
      "                 LogisticRegression(max_iter=5000, random_state=666,\n",
      "                                    solver='liblinear'))])\n",
      "[DataScope] => Ray mode for TMC: True\n"
     ]
    },
    {
     "output_type": "stream",
     "name": "stderr",
     "text": [
      "/usr/local/anaconda3/envs/fastai2/lib/python3.7/site-packages/ray/_private/services.py:238: UserWarning: Not all Ray Dashboard dependencies were found. To use the dashboard please install Ray using `pip install ray[default]`. To disable this message, set RAY_DISABLE_IMPORT_WARNING env var to '1'.\n",
      "  warnings.warn(warning_message)\n"
     ]
    },
    {
     "output_type": "stream",
     "name": "stdout",
     "text": [
      "\u001b[2m\u001b[36m(pid=62628)\u001b[0m 1 out of 1 TMC_Shapley iterations.\n",
      "Pipeline(steps=[('identity',\n",
      "                 FunctionTransformer(func=<function get_pipe_ops.<locals>.identity at 0x7ff51481a9e0>)),\n",
      "                ('knn', KNeighborsClassifier(n_neighbors=1))])\n",
      "[DataScope] => Ray mode for TMC: True\n",
      "Pipeline(steps=[('identity',\n",
      "                 FunctionTransformer(func=<function get_pipe_ops.<locals>.identity at 0x7ff51481a9e0>)),\n",
      "                ('classifier',\n",
      "                 LogisticRegression(max_iter=5000, random_state=666,\n",
      "                                    solver='liblinear'))])\n",
      "\u001b[2m\u001b[36m(pid=62628)\u001b[0m 1 out of 1 TMC_Shapley iterations.\n",
      "[DataScope] => Ray mode for TMC: True\n",
      "\u001b[2m\u001b[36m(pid=62628)\u001b[0m 1 out of 1 TMC_Shapley iterations.\n"
     ]
    },
    {
     "output_type": "stream",
     "name": "stderr",
     "text": [
      "/Users/david/Projects/datascope/experiments/plotter/FeaturePlotter.py:97: UserWarning: Matplotlib is currently using agg, which is a non-GUI backend, so cannot show the figure.\n",
      "  plt.show()\n"
     ]
    },
    {
     "output_type": "stream",
     "name": "stdout",
     "text": [
      "\u001b[2m\u001b[36m(pid=62642)\u001b[0m 100 out of 1000 evaluation iterations for TMC-Shapley (cond).\n",
      "\u001b[2m\u001b[36m(pid=62639)\u001b[0m 200 out of 1000 evaluation iterations for TMC-Shapley (cond).\n",
      "\u001b[2m\u001b[36m(pid=62628)\u001b[0m 300 out of 1000 evaluation iterations for TMC-Shapley (cond).\n",
      "\u001b[2m\u001b[36m(pid=62640)\u001b[0m 400 out of 1000 evaluation iterations for TMC-Shapley (cond).\n",
      "\u001b[2m\u001b[36m(pid=62628)\u001b[0m 500 out of 1000 evaluation iterations for TMC-Shapley (cond).\n",
      "\u001b[2m\u001b[36m(pid=62638)\u001b[0m 600 out of 1000 evaluation iterations for TMC-Shapley (cond).\n",
      "\u001b[2m\u001b[36m(pid=62638)\u001b[0m 700 out of 1000 evaluation iterations for TMC-Shapley (cond).\n",
      "\u001b[2m\u001b[36m(pid=62640)\u001b[0m 800 out of 1000 evaluation iterations for TMC-Shapley (cond).\n",
      "\u001b[2m\u001b[36m(pid=62643)\u001b[0m 900 out of 1000 evaluation iterations for TMC-Shapley (cond).\n",
      "\u001b[2m\u001b[36m(pid=62637)\u001b[0m 1000 out of 1000 evaluation iterations for TMC-Shapley (cond).\n",
      "\u001b[2m\u001b[36m(pid=62638)\u001b[0m 100 out of 1000 evaluation iterations for KNN-Shapley.\n",
      "\u001b[2m\u001b[36m(pid=62643)\u001b[0m 200 out of 1000 evaluation iterations for KNN-Shapley.\n",
      "\u001b[2m\u001b[36m(pid=62640)\u001b[0m 300 out of 1000 evaluation iterations for KNN-Shapley.\n",
      "\u001b[2m\u001b[36m(pid=62643)\u001b[0m 400 out of 1000 evaluation iterations for KNN-Shapley.\n",
      "\u001b[2m\u001b[36m(pid=62639)\u001b[0m 500 out of 1000 evaluation iterations for KNN-Shapley.\n",
      "\u001b[2m\u001b[36m(pid=62646)\u001b[0m 600 out of 1000 evaluation iterations for KNN-Shapley.\n",
      "\u001b[2m\u001b[36m(pid=62637)\u001b[0m 700 out of 1000 evaluation iterations for KNN-Shapley.\n",
      "\u001b[2m\u001b[36m(pid=62643)\u001b[0m 800 out of 1000 evaluation iterations for KNN-Shapley.\n",
      "\u001b[2m\u001b[36m(pid=62639)\u001b[0m 900 out of 1000 evaluation iterations for KNN-Shapley.\n",
      "\u001b[2m\u001b[36m(pid=62628)\u001b[0m 1000 out of 1000 evaluation iterations for KNN-Shapley.\n",
      "\u001b[2m\u001b[36m(pid=62643)\u001b[0m 100 out of 1000 evaluation iterations for TMC-Shapley.\n",
      "\u001b[2m\u001b[36m(pid=62644)\u001b[0m 200 out of 1000 evaluation iterations for TMC-Shapley.\n",
      "\u001b[2m\u001b[36m(pid=62640)\u001b[0m 300 out of 1000 evaluation iterations for TMC-Shapley.\n",
      "\u001b[2m\u001b[36m(pid=62644)\u001b[0m 400 out of 1000 evaluation iterations for TMC-Shapley.\n",
      "\u001b[2m\u001b[36m(pid=62643)\u001b[0m 500 out of 1000 evaluation iterations for TMC-Shapley.\n",
      "\u001b[2m\u001b[36m(pid=62631)\u001b[0m 600 out of 1000 evaluation iterations for TMC-Shapley.\n",
      "\u001b[2m\u001b[36m(pid=62643)\u001b[0m 700 out of 1000 evaluation iterations for TMC-Shapley.\n",
      "\u001b[2m\u001b[36m(pid=62639)\u001b[0m 800 out of 1000 evaluation iterations for TMC-Shapley.\n",
      "\u001b[2m\u001b[36m(pid=62643)\u001b[0m 900 out of 1000 evaluation iterations for TMC-Shapley.\n",
      "\u001b[2m\u001b[36m(pid=62637)\u001b[0m 1000 out of 1000 evaluation iterations for TMC-Shapley.\n",
      "\u001b[2m\u001b[36m(pid=62644)\u001b[0m 100 out of 1000 evaluation iterations for Random.\n",
      "\u001b[2m\u001b[36m(pid=62632)\u001b[0m 200 out of 1000 evaluation iterations for Random.\n",
      "\u001b[2m\u001b[36m(pid=62646)\u001b[0m 300 out of 1000 evaluation iterations for Random.\n",
      "\u001b[2m\u001b[36m(pid=62638)\u001b[0m 400 out of 1000 evaluation iterations for Random.\n",
      "\u001b[2m\u001b[36m(pid=62643)\u001b[0m 500 out of 1000 evaluation iterations for Random.\n",
      "\u001b[2m\u001b[36m(pid=62644)\u001b[0m 600 out of 1000 evaluation iterations for Random.\n",
      "\u001b[2m\u001b[36m(pid=62641)\u001b[0m 700 out of 1000 evaluation iterations for Random.\n",
      "\u001b[2m\u001b[36m(pid=62646)\u001b[0m 800 out of 1000 evaluation iterations for Random.\n",
      "\u001b[2m\u001b[36m(pid=62644)\u001b[0m 900 out of 1000 evaluation iterations for Random.\n",
      "\u001b[2m\u001b[36m(pid=62631)\u001b[0m 1000 out of 1000 evaluation iterations for Random.\n"
     ]
    },
    {
     "output_type": "stream",
     "name": "stderr",
     "text": [
      "/Users/david/Projects/datascope/experiments/plotter/FeatureCleaningPlotter.py:182: UserWarning: Matplotlib is currently using agg, which is a non-GUI backend, so cannot show the figure.\n",
      "  plt.show()\n"
     ]
    },
    {
     "output_type": "stream",
     "name": "stdout",
     "text": [
      "[DataScope] => All experiments done!\n",
      "Initiate experiment feature_test_FashionMNIST_sigma_10_pipe_1-i-1-time-29-09-2021-15-24-21\n",
      "[DataScope] => Running feature noise experiment\n",
      "Successfully created the directory .//results/feature_test_FashionMNIST_sigma_10_pipe_1/i-1-time-29-09-2021-15-24-21/feature/\n",
      "Pipeline(steps=[('identity',\n",
      "                 FunctionTransformer(func=<function process_pipe_condknn.<locals>.identity at 0x7ff503955560>))])\n",
      "Pipeline(steps=[('classifier',\n",
      "                 LogisticRegression(max_iter=5000, random_state=666,\n",
      "                                    solver='liblinear'))])\n",
      "[DataScope] => Ray mode for TMC: True\n",
      "\u001b[2m\u001b[36m(pid=62643)\u001b[0m 1 out of 1 TMC_Shapley iterations.\n",
      "Pipeline(steps=[('scaler', StandardScaler()),\n",
      "                ('knn', KNeighborsClassifier(n_neighbors=1))])\n",
      "[DataScope] => Ray mode for TMC: True\n",
      "\u001b[2m\u001b[36m(pid=62643)\u001b[0m 1 out of 1 TMC_Shapley iterations.\n",
      "Pipeline(steps=[('scaler', StandardScaler()),\n",
      "                ('classifier',\n",
      "                 LogisticRegression(max_iter=5000, random_state=666,\n",
      "                                    solver='liblinear'))])\n",
      "[DataScope] => Ray mode for TMC: True\n",
      "\u001b[2m\u001b[36m(pid=62643)\u001b[0m 1 out of 1 TMC_Shapley iterations.\n"
     ]
    },
    {
     "output_type": "stream",
     "name": "stderr",
     "text": [
      "/Users/david/Projects/datascope/experiments/plotter/FeaturePlotter.py:97: UserWarning: Matplotlib is currently using agg, which is a non-GUI backend, so cannot show the figure.\n",
      "  plt.show()\n"
     ]
    },
    {
     "output_type": "stream",
     "name": "stdout",
     "text": [
      "\u001b[2m\u001b[36m(pid=62640)\u001b[0m 100 out of 1000 evaluation iterations for TMC-Shapley (cond).\n",
      "\u001b[2m\u001b[36m(pid=62638)\u001b[0m 200 out of 1000 evaluation iterations for TMC-Shapley (cond).\n",
      "\u001b[2m\u001b[36m(pid=62631)\u001b[0m 300 out of 1000 evaluation iterations for TMC-Shapley (cond).\n",
      "\u001b[2m\u001b[36m(pid=62632)\u001b[0m 400 out of 1000 evaluation iterations for TMC-Shapley (cond).\n",
      "\u001b[2m\u001b[36m(pid=62631)\u001b[0m 500 out of 1000 evaluation iterations for TMC-Shapley (cond).\n",
      "\u001b[2m\u001b[36m(pid=62628)\u001b[0m 600 out of 1000 evaluation iterations for TMC-Shapley (cond).\n",
      "\u001b[2m\u001b[36m(pid=62646)\u001b[0m 700 out of 1000 evaluation iterations for TMC-Shapley (cond).\n",
      "\u001b[2m\u001b[36m(pid=62643)\u001b[0m 800 out of 1000 evaluation iterations for TMC-Shapley (cond).\n",
      "\u001b[2m\u001b[36m(pid=62637)\u001b[0m 900 out of 1000 evaluation iterations for TMC-Shapley (cond).\n",
      "\u001b[2m\u001b[36m(pid=62643)\u001b[0m 1000 out of 1000 evaluation iterations for TMC-Shapley (cond).\n",
      "\u001b[2m\u001b[36m(pid=62628)\u001b[0m 100 out of 1000 evaluation iterations for KNN-Shapley.\n",
      "\u001b[2m\u001b[36m(pid=62644)\u001b[0m 200 out of 1000 evaluation iterations for KNN-Shapley.\n",
      "\u001b[2m\u001b[36m(pid=62643)\u001b[0m 300 out of 1000 evaluation iterations for KNN-Shapley.\n",
      "\u001b[2m\u001b[36m(pid=62638)\u001b[0m 400 out of 1000 evaluation iterations for KNN-Shapley.\n",
      "\u001b[2m\u001b[36m(pid=62642)\u001b[0m 500 out of 1000 evaluation iterations for KNN-Shapley.\n",
      "\u001b[2m\u001b[36m(pid=62641)\u001b[0m 600 out of 1000 evaluation iterations for KNN-Shapley.\n",
      "\u001b[2m\u001b[36m(pid=62631)\u001b[0m 700 out of 1000 evaluation iterations for KNN-Shapley.\n",
      "\u001b[2m\u001b[36m(pid=62644)\u001b[0m 800 out of 1000 evaluation iterations for KNN-Shapley.\n",
      "\u001b[2m\u001b[36m(pid=62631)\u001b[0m 900 out of 1000 evaluation iterations for KNN-Shapley.\n",
      "\u001b[2m\u001b[36m(pid=62638)\u001b[0m 1000 out of 1000 evaluation iterations for KNN-Shapley.\n",
      "\u001b[2m\u001b[36m(pid=62639)\u001b[0m 100 out of 1000 evaluation iterations for TMC-Shapley.\n",
      "\u001b[2m\u001b[36m(pid=62628)\u001b[0m 200 out of 1000 evaluation iterations for TMC-Shapley.\n",
      "\u001b[2m\u001b[36m(pid=62638)\u001b[0m 300 out of 1000 evaluation iterations for TMC-Shapley.\n",
      "\u001b[2m\u001b[36m(pid=62640)\u001b[0m 400 out of 1000 evaluation iterations for TMC-Shapley.\n",
      "\u001b[2m\u001b[36m(pid=62640)\u001b[0m 500 out of 1000 evaluation iterations for TMC-Shapley.\n",
      "\u001b[2m\u001b[36m(pid=62631)\u001b[0m 600 out of 1000 evaluation iterations for TMC-Shapley.\n",
      "\u001b[2m\u001b[36m(pid=62628)\u001b[0m 700 out of 1000 evaluation iterations for TMC-Shapley.\n",
      "\u001b[2m\u001b[36m(pid=62644)\u001b[0m 800 out of 1000 evaluation iterations for TMC-Shapley.\n",
      "\u001b[2m\u001b[36m(pid=62637)\u001b[0m 900 out of 1000 evaluation iterations for TMC-Shapley.\n",
      "\u001b[2m\u001b[36m(pid=62643)\u001b[0m 1000 out of 1000 evaluation iterations for TMC-Shapley.\n"
     ]
    },
    {
     "output_type": "error",
     "ename": "KeyboardInterrupt",
     "evalue": "",
     "traceback": [
      "\u001b[0;31m---------------------------------------------------------------------------\u001b[0m",
      "\u001b[0;31mKeyboardInterrupt\u001b[0m                         Traceback (most recent call last)",
      "\u001b[0;32m<ipython-input-3-2207eae70f93>\u001b[0m in \u001b[0;36m<module>\u001b[0;34m\u001b[0m\n\u001b[1;32m     14\u001b[0m     \u001b[0mexp_name\u001b[0m \u001b[0;34m=\u001b[0m \u001b[0;34mf'feature_test_FashionMNIST_sigma_10_{name}'\u001b[0m\u001b[0;34m\u001b[0m\u001b[0;34m\u001b[0m\u001b[0m\n\u001b[1;32m     15\u001b[0m     \u001b[0mexp\u001b[0m \u001b[0;34m=\u001b[0m \u001b[0mExperiment\u001b[0m\u001b[0;34m(\u001b[0m\u001b[0mexp_name\u001b[0m\u001b[0;34m,\u001b[0m \u001b[0mmodel\u001b[0m\u001b[0;34m,\u001b[0m \u001b[0mdataset_name\u001b[0m\u001b[0;34m=\u001b[0m\u001b[0;34m\"FashionMNIST\"\u001b[0m\u001b[0;34m,\u001b[0m \u001b[0msave_path\u001b[0m\u001b[0;34m=\u001b[0m\u001b[0;34m\"./\"\u001b[0m\u001b[0;34m)\u001b[0m\u001b[0;34m\u001b[0m\u001b[0;34m\u001b[0m\u001b[0m\n\u001b[0;32m---> 16\u001b[0;31m     \u001b[0mexp\u001b[0m\u001b[0;34m.\u001b[0m\u001b[0mrun\u001b[0m\u001b[0;34m(\u001b[0m\u001b[0;34m**\u001b[0m\u001b[0msettings\u001b[0m\u001b[0;34m)\u001b[0m\u001b[0;34m\u001b[0m\u001b[0;34m\u001b[0m\u001b[0m\n\u001b[0m",
      "\u001b[0;32m~/Projects/datascope/experiments/Experiment.py\u001b[0m in \u001b[0;36mrun\u001b[0;34m(self, iterations, run_label, run_poisoning, run_feature, run_fairness, run_augmentation, run_performance, ray, truncated, forksets, run_forks)\u001b[0m\n\u001b[1;32m     75\u001b[0m             \u001b[0mprint\u001b[0m\u001b[0;34m(\u001b[0m\u001b[0;34m'[DataScope] => Running feature noise experiment'\u001b[0m\u001b[0;34m)\u001b[0m\u001b[0;34m\u001b[0m\u001b[0;34m\u001b[0m\u001b[0m\n\u001b[1;32m     76\u001b[0m             \u001b[0mcreate_dirs\u001b[0m\u001b[0;34m(\u001b[0m\u001b[0;34mf'{self.custom_save_path}/results/{name}/i-{iterations}-time-{dt_string}/feature/'\u001b[0m\u001b[0;34m)\u001b[0m\u001b[0;34m\u001b[0m\u001b[0;34m\u001b[0m\u001b[0m\n\u001b[0;32m---> 77\u001b[0;31m             \u001b[0mself\u001b[0m\u001b[0;34m.\u001b[0m\u001b[0mrun_feature_experiment\u001b[0m\u001b[0;34m(\u001b[0m\u001b[0miterations\u001b[0m\u001b[0;34m,\u001b[0m \u001b[0mdt_string\u001b[0m\u001b[0;34m,\u001b[0m \u001b[0mray\u001b[0m\u001b[0;34m,\u001b[0m \u001b[0mtruncated\u001b[0m\u001b[0;34m,\u001b[0m \u001b[0mforksets\u001b[0m\u001b[0;34m=\u001b[0m\u001b[0mforksets\u001b[0m\u001b[0;34m,\u001b[0m \u001b[0mflatten\u001b[0m\u001b[0;34m=\u001b[0m\u001b[0mflatten\u001b[0m\u001b[0;34m)\u001b[0m\u001b[0;34m\u001b[0m\u001b[0;34m\u001b[0m\u001b[0m\n\u001b[0m\u001b[1;32m     78\u001b[0m         \u001b[0;32mif\u001b[0m \u001b[0mrun_fairness\u001b[0m\u001b[0;34m:\u001b[0m\u001b[0;34m\u001b[0m\u001b[0;34m\u001b[0m\u001b[0m\n\u001b[1;32m     79\u001b[0m             \u001b[0mprint\u001b[0m\u001b[0;34m(\u001b[0m\u001b[0;34m'[DataScope] => Running fairness experiment'\u001b[0m\u001b[0;34m)\u001b[0m\u001b[0;34m\u001b[0m\u001b[0;34m\u001b[0m\u001b[0m\n",
      "\u001b[0;32m~/Projects/datascope/experiments/Experiment.py\u001b[0m in \u001b[0;36mrun_feature_experiment\u001b[0;34m(self, iterations, dt_string, ray, truncated, forksets, flatten)\u001b[0m\n\u001b[1;32m    422\u001b[0m                      \u001b[0;34m(\u001b[0m\u001b[0;34m'KNN-Shapley'\u001b[0m\u001b[0;34m,\u001b[0m \u001b[0mres_feature_knn\u001b[0m\u001b[0;34m)\u001b[0m\u001b[0;34m,\u001b[0m\u001b[0;34m\u001b[0m\u001b[0;34m\u001b[0m\u001b[0m\n\u001b[1;32m    423\u001b[0m                      \u001b[0;34m(\u001b[0m\u001b[0;34m'TMC-Shapley'\u001b[0m\u001b[0;34m,\u001b[0m \u001b[0mres_feature_pipe\u001b[0m\u001b[0;34m)\u001b[0m\u001b[0;34m\u001b[0m\u001b[0;34m\u001b[0m\u001b[0m\n\u001b[0;32m--> 424\u001b[0;31m                      ).plot(model_family='custom', pipeline=pipeline, ray=ray, save_path=f'{self.base_path}/feature/FeatureCleaning')\n\u001b[0m\u001b[1;32m    425\u001b[0m \u001b[0;34m\u001b[0m\u001b[0m\n\u001b[1;32m    426\u001b[0m     \u001b[0;32mdef\u001b[0m \u001b[0mrun_fairness_experiment\u001b[0m\u001b[0;34m(\u001b[0m\u001b[0mself\u001b[0m\u001b[0;34m,\u001b[0m \u001b[0miterations\u001b[0m\u001b[0;34m,\u001b[0m \u001b[0mdt_string\u001b[0m\u001b[0;34m,\u001b[0m \u001b[0mray\u001b[0m\u001b[0;34m,\u001b[0m \u001b[0mtruncated\u001b[0m\u001b[0;34m,\u001b[0m \u001b[0mforksets\u001b[0m\u001b[0;34m=\u001b[0m\u001b[0;32mNone\u001b[0m\u001b[0;34m)\u001b[0m\u001b[0;34m:\u001b[0m\u001b[0;34m\u001b[0m\u001b[0;34m\u001b[0m\u001b[0m\n",
      "\u001b[0;32m~/Projects/datascope/experiments/plotter/FeatureCleaningPlotter.py\u001b[0m in \u001b[0;36mplot\u001b[0;34m(self, metric, model_family, save_path, ray, fork, **kwargs)\u001b[0m\n\u001b[1;32m    168\u001b[0m \u001b[0;34m\u001b[0m\u001b[0m\n\u001b[1;32m    169\u001b[0m         \u001b[0mrand_values\u001b[0m \u001b[0;34m=\u001b[0m \u001b[0mnp\u001b[0m\u001b[0;34m.\u001b[0m\u001b[0mrandom\u001b[0m\u001b[0;34m.\u001b[0m\u001b[0mrand\u001b[0m\u001b[0;34m(\u001b[0m\u001b[0mdata_num\u001b[0m\u001b[0;34m)\u001b[0m\u001b[0;34m\u001b[0m\u001b[0;34m\u001b[0m\u001b[0m\n\u001b[0;32m--> 170\u001b[0;31m         \u001b[0mx\u001b[0m\u001b[0;34m,\u001b[0m \u001b[0mf\u001b[0m\u001b[0;34m,\u001b[0m \u001b[0ms\u001b[0m \u001b[0;34m=\u001b[0m \u001b[0mself\u001b[0m\u001b[0;34m.\u001b[0m\u001b[0m_calculate_res\u001b[0m\u001b[0;34m(\u001b[0m\u001b[0;34m\"Random\"\u001b[0m\u001b[0;34m,\u001b[0m \u001b[0mrand_values\u001b[0m\u001b[0;34m,\u001b[0m \u001b[0mdata_num\u001b[0m\u001b[0;34m,\u001b[0m \u001b[0mforksets\u001b[0m\u001b[0;34m,\u001b[0m \u001b[0mmetric\u001b[0m\u001b[0;34m=\u001b[0m\u001b[0mmetric\u001b[0m\u001b[0;34m,\u001b[0m \u001b[0mmodel_family\u001b[0m\u001b[0;34m=\u001b[0m\u001b[0mmodel_family\u001b[0m\u001b[0;34m,\u001b[0m \u001b[0msave_path\u001b[0m\u001b[0;34m=\u001b[0m\u001b[0msave_path\u001b[0m\u001b[0;34m,\u001b[0m \u001b[0;34m**\u001b[0m\u001b[0mkwargs\u001b[0m\u001b[0;34m)\u001b[0m\u001b[0;34m\u001b[0m\u001b[0;34m\u001b[0m\u001b[0m\n\u001b[0m\u001b[1;32m    171\u001b[0m         \u001b[0mplt\u001b[0m\u001b[0;34m.\u001b[0m\u001b[0mplot\u001b[0m\u001b[0;34m(\u001b[0m\u001b[0mx\u001b[0m\u001b[0;34m,\u001b[0m \u001b[0mnp\u001b[0m\u001b[0;34m.\u001b[0m\u001b[0marray\u001b[0m\u001b[0;34m(\u001b[0m\u001b[0mf\u001b[0m\u001b[0;34m)\u001b[0m \u001b[0;34m*\u001b[0m \u001b[0;36m100\u001b[0m\u001b[0;34m,\u001b[0m \u001b[0;34m'--'\u001b[0m\u001b[0;34m,\u001b[0m \u001b[0mcolor\u001b[0m\u001b[0;34m=\u001b[0m\u001b[0;34m'red'\u001b[0m\u001b[0;34m,\u001b[0m \u001b[0mlabel\u001b[0m \u001b[0;34m=\u001b[0m \u001b[0;34m\"Random\"\u001b[0m\u001b[0;34m,\u001b[0m \u001b[0mzorder\u001b[0m\u001b[0;34m=\u001b[0m\u001b[0;36m7\u001b[0m\u001b[0;34m)\u001b[0m\u001b[0;34m\u001b[0m\u001b[0;34m\u001b[0m\u001b[0m\n\u001b[1;32m    172\u001b[0m \u001b[0;34m\u001b[0m\u001b[0m\n",
      "\u001b[0;32m~/Projects/datascope/experiments/plotter/FeatureCleaningPlotter.py\u001b[0m in \u001b[0;36m_calculate_res\u001b[0;34m(self, name, s_values, data_num, forksets, metric, pipeline, save_path, **kwargs)\u001b[0m\n\u001b[1;32m    107\u001b[0m \u001b[0;34m\u001b[0m\u001b[0m\n\u001b[1;32m    108\u001b[0m             \u001b[0mfutures\u001b[0m \u001b[0;34m=\u001b[0m \u001b[0;34m[\u001b[0m\u001b[0mcall_partial_run_one_prediction\u001b[0m\u001b[0;34m.\u001b[0m\u001b[0mremote\u001b[0m\u001b[0;34m(\u001b[0m\u001b[0miteration\u001b[0m\u001b[0;34m=\u001b[0m\u001b[0miteration\u001b[0m\u001b[0;34m)\u001b[0m \u001b[0;32mfor\u001b[0m \u001b[0miteration\u001b[0m \u001b[0;32min\u001b[0m \u001b[0mrange\u001b[0m\u001b[0;34m(\u001b[0m\u001b[0miterations\u001b[0m\u001b[0;34m)\u001b[0m\u001b[0;34m]\u001b[0m\u001b[0;34m\u001b[0m\u001b[0;34m\u001b[0m\u001b[0m\n\u001b[0;32m--> 109\u001b[0;31m             \u001b[0mf\u001b[0m \u001b[0;34m=\u001b[0m \u001b[0mnp\u001b[0m\u001b[0;34m.\u001b[0m\u001b[0marray\u001b[0m\u001b[0;34m(\u001b[0m\u001b[0mray\u001b[0m\u001b[0;34m.\u001b[0m\u001b[0mget\u001b[0m\u001b[0;34m(\u001b[0m\u001b[0mfutures\u001b[0m\u001b[0;34m)\u001b[0m\u001b[0;34m)\u001b[0m\u001b[0;34m\u001b[0m\u001b[0;34m\u001b[0m\u001b[0m\n\u001b[0m\u001b[1;32m    110\u001b[0m \u001b[0;34m\u001b[0m\u001b[0m\n\u001b[1;32m    111\u001b[0m             \u001b[0;31m# do some optimizations\u001b[0m\u001b[0;34m\u001b[0m\u001b[0;34m\u001b[0m\u001b[0;34m\u001b[0m\u001b[0m\n",
      "\u001b[0;32m/usr/local/anaconda3/envs/fastai2/lib/python3.7/site-packages/ray/_private/client_mode_hook.py\u001b[0m in \u001b[0;36mwrapper\u001b[0;34m(*args, **kwargs)\u001b[0m\n\u001b[1;32m     80\u001b[0m         \u001b[0;32mif\u001b[0m \u001b[0mclient_mode_should_convert\u001b[0m\u001b[0;34m(\u001b[0m\u001b[0;34m)\u001b[0m\u001b[0;34m:\u001b[0m\u001b[0;34m\u001b[0m\u001b[0;34m\u001b[0m\u001b[0m\n\u001b[1;32m     81\u001b[0m             \u001b[0;32mreturn\u001b[0m \u001b[0mgetattr\u001b[0m\u001b[0;34m(\u001b[0m\u001b[0mray\u001b[0m\u001b[0;34m,\u001b[0m \u001b[0mfunc\u001b[0m\u001b[0;34m.\u001b[0m\u001b[0m__name__\u001b[0m\u001b[0;34m)\u001b[0m\u001b[0;34m(\u001b[0m\u001b[0;34m*\u001b[0m\u001b[0margs\u001b[0m\u001b[0;34m,\u001b[0m \u001b[0;34m**\u001b[0m\u001b[0mkwargs\u001b[0m\u001b[0;34m)\u001b[0m\u001b[0;34m\u001b[0m\u001b[0;34m\u001b[0m\u001b[0m\n\u001b[0;32m---> 82\u001b[0;31m         \u001b[0;32mreturn\u001b[0m \u001b[0mfunc\u001b[0m\u001b[0;34m(\u001b[0m\u001b[0;34m*\u001b[0m\u001b[0margs\u001b[0m\u001b[0;34m,\u001b[0m \u001b[0;34m**\u001b[0m\u001b[0mkwargs\u001b[0m\u001b[0;34m)\u001b[0m\u001b[0;34m\u001b[0m\u001b[0;34m\u001b[0m\u001b[0m\n\u001b[0m\u001b[1;32m     83\u001b[0m \u001b[0;34m\u001b[0m\u001b[0m\n\u001b[1;32m     84\u001b[0m     \u001b[0;32mreturn\u001b[0m \u001b[0mwrapper\u001b[0m\u001b[0;34m\u001b[0m\u001b[0;34m\u001b[0m\u001b[0m\n",
      "\u001b[0;32m/usr/local/anaconda3/envs/fastai2/lib/python3.7/site-packages/ray/worker.py\u001b[0m in \u001b[0;36mget\u001b[0;34m(object_refs, timeout)\u001b[0m\n\u001b[1;32m   1613\u001b[0m         \u001b[0;31m# TODO(ujvl): Consider how to allow user to retrieve the ready objects.\u001b[0m\u001b[0;34m\u001b[0m\u001b[0;34m\u001b[0m\u001b[0;34m\u001b[0m\u001b[0m\n\u001b[1;32m   1614\u001b[0m         values, debugger_breakpoint = worker.get_objects(\n\u001b[0;32m-> 1615\u001b[0;31m             object_refs, timeout=timeout)\n\u001b[0m\u001b[1;32m   1616\u001b[0m         \u001b[0;32mfor\u001b[0m \u001b[0mi\u001b[0m\u001b[0;34m,\u001b[0m \u001b[0mvalue\u001b[0m \u001b[0;32min\u001b[0m \u001b[0menumerate\u001b[0m\u001b[0;34m(\u001b[0m\u001b[0mvalues\u001b[0m\u001b[0;34m)\u001b[0m\u001b[0;34m:\u001b[0m\u001b[0;34m\u001b[0m\u001b[0;34m\u001b[0m\u001b[0m\n\u001b[1;32m   1617\u001b[0m             \u001b[0;32mif\u001b[0m \u001b[0misinstance\u001b[0m\u001b[0;34m(\u001b[0m\u001b[0mvalue\u001b[0m\u001b[0;34m,\u001b[0m \u001b[0mRayError\u001b[0m\u001b[0;34m)\u001b[0m\u001b[0;34m:\u001b[0m\u001b[0;34m\u001b[0m\u001b[0;34m\u001b[0m\u001b[0m\n",
      "\u001b[0;32m/usr/local/anaconda3/envs/fastai2/lib/python3.7/site-packages/ray/worker.py\u001b[0m in \u001b[0;36mget_objects\u001b[0;34m(self, object_refs, timeout)\u001b[0m\n\u001b[1;32m    346\u001b[0m         \u001b[0mtimeout_ms\u001b[0m \u001b[0;34m=\u001b[0m \u001b[0mint\u001b[0m\u001b[0;34m(\u001b[0m\u001b[0mtimeout\u001b[0m \u001b[0;34m*\u001b[0m \u001b[0;36m1000\u001b[0m\u001b[0;34m)\u001b[0m \u001b[0;32mif\u001b[0m \u001b[0mtimeout\u001b[0m \u001b[0;32melse\u001b[0m \u001b[0;34m-\u001b[0m\u001b[0;36m1\u001b[0m\u001b[0;34m\u001b[0m\u001b[0;34m\u001b[0m\u001b[0m\n\u001b[1;32m    347\u001b[0m         data_metadata_pairs = self.core_worker.get_objects(\n\u001b[0;32m--> 348\u001b[0;31m             object_refs, self.current_task_id, timeout_ms)\n\u001b[0m\u001b[1;32m    349\u001b[0m         \u001b[0mdebugger_breakpoint\u001b[0m \u001b[0;34m=\u001b[0m \u001b[0;34mb\"\"\u001b[0m\u001b[0;34m\u001b[0m\u001b[0;34m\u001b[0m\u001b[0m\n\u001b[1;32m    350\u001b[0m         \u001b[0;32mfor\u001b[0m \u001b[0;34m(\u001b[0m\u001b[0mdata\u001b[0m\u001b[0;34m,\u001b[0m \u001b[0mmetadata\u001b[0m\u001b[0;34m)\u001b[0m \u001b[0;32min\u001b[0m \u001b[0mdata_metadata_pairs\u001b[0m\u001b[0;34m:\u001b[0m\u001b[0;34m\u001b[0m\u001b[0;34m\u001b[0m\u001b[0m\n",
      "\u001b[0;32mpython/ray/_raylet.pyx\u001b[0m in \u001b[0;36mray._raylet.CoreWorker.get_objects\u001b[0;34m()\u001b[0m\n",
      "\u001b[0;32mpython/ray/_raylet.pyx\u001b[0m in \u001b[0;36mray._raylet.check_status\u001b[0;34m()\u001b[0m\n",
      "\u001b[0;31mKeyboardInterrupt\u001b[0m: "
     ]
    },
    {
     "output_type": "stream",
     "name": "stdout",
     "text": [
      "\u001b[2m\u001b[36m(pid=62644)\u001b[0m 100 out of 1000 evaluation iterations for Random.\n",
      "\u001b[2m\u001b[36m(pid=62641)\u001b[0m 200 out of 1000 evaluation iterations for Random.\n",
      "\u001b[2m\u001b[36m(pid=62631)\u001b[0m 300 out of 1000 evaluation iterations for Random.\n",
      "\u001b[2m\u001b[36m(pid=62628)\u001b[0m 400 out of 1000 evaluation iterations for Random.\n",
      "\u001b[2m\u001b[36m(pid=62637)\u001b[0m 500 out of 1000 evaluation iterations for Random.\n",
      "\u001b[2m\u001b[36m(pid=62638)\u001b[0m 600 out of 1000 evaluation iterations for Random.\n",
      "\u001b[2m\u001b[36m(pid=62637)\u001b[0m 700 out of 1000 evaluation iterations for Random.\n",
      "\u001b[2m\u001b[36m(pid=62644)\u001b[0m 800 out of 1000 evaluation iterations for Random.\n",
      "\u001b[2m\u001b[36m(pid=62637)\u001b[0m 900 out of 1000 evaluation iterations for Random.\n",
      "\u001b[2m\u001b[36m(pid=62637)\u001b[0m 1000 out of 1000 evaluation iterations for Random.\n"
     ]
    }
   ],
   "metadata": {}
  },
  {
   "cell_type": "code",
   "execution_count": null,
   "source": [
    "from datasets import load_dataset\n",
    "dataset = load_dataset('imdb')\n"
   ],
   "outputs": [],
   "metadata": {}
  },
  {
   "cell_type": "code",
   "execution_count": null,
   "source": [
    "dataset['train']['text'][:1000]"
   ],
   "outputs": [],
   "metadata": {}
  },
  {
   "cell_type": "code",
   "execution_count": null,
   "source": [],
   "outputs": [],
   "metadata": {}
  }
 ],
 "metadata": {
  "interpreter": {
   "hash": "244f903178196d36fbfba2449c5f83f26f06c6159b04ebd44a04b5c6e8ea4107"
  },
  "kernelspec": {
   "name": "python3",
   "display_name": "Python 3.7.7 64-bit ('fastai2': conda)"
  },
  "language_info": {
   "codemirror_mode": {
    "name": "ipython",
    "version": 3
   },
   "file_extension": ".py",
   "mimetype": "text/x-python",
   "name": "python",
   "nbconvert_exporter": "python",
   "pygments_lexer": "ipython3",
   "version": "3.7.7"
  },
  "orig_nbformat": 4
 },
 "nbformat": 4,
 "nbformat_minor": 2
}