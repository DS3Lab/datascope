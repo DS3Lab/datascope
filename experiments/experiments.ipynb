{
 "cells": [
  {
   "cell_type": "code",
   "execution_count": null,
   "source": [
    "%load_ext autoreload\n",
    "%autoreload 2\n",
    "%matplotlib inline"
   ],
   "outputs": [],
   "metadata": {}
  },
  {
   "cell_type": "code",
   "execution_count": null,
   "source": [
    "# from sklearn import set_config\n",
    "# set_config(display='diagram')\n",
    "\n",
    "from dspipes import Pipelines, TextPipeline\n",
    "from Experiment import Experiment\n",
    "\n",
    "import numpy as np\n",
    "# CAUTION: forksets has to be an np array\n",
    "# forksets = []\n",
    "# for i in range(1000): \n",
    "#     forksets += 1 * [i]\n",
    "# forksets = np.array(forksets)\n",
    "# forksets\n"
   ],
   "outputs": [],
   "metadata": {}
  },
  {
   "cell_type": "code",
   "execution_count": null,
   "source": [
<<<<<<< HEAD
    "for i in range(0,6):\n",
=======
    "for i in range(0,8):\n",
>>>>>>> 0c334abe1c88422bf351b06b06d24ce49aa33738
    "    name = f'pipe_{i}'\n",
    "    model = Pipelines.create_numerical_pipeline(name, imputer=False)\n",
    "    exp_name = f'forks_1000_feature_{name}'\n",
    "    exp = Experiment(exp_name, model, dataset_name=\"UCI\", save_path=\"./\")\n",
    "    if i == 7: \n",
    "        exp.run(iterations=1, run_label=False, run_poisoning=False, run_fairness=False, run_augmentation=True, ray=True, flatten=False, truncated=True, run_forks=10)\n",
    "    else:\n",
<<<<<<< HEAD
    "        exp.run(iterations=1000, run_label=False, run_poisoning=False, run_fairness=False, run_feature=True, ray=True, truncated=True, run_forks=0)"
=======
    "        exp.run(iterations=1, run_label=True, run_poisoning=True, run_fairness=True, run_augmentation=False, ray=True, truncated=True, run_forks=10)"
>>>>>>> 0c334abe1c88422bf351b06b06d24ce49aa33738
   ],
   "outputs": [],
   "metadata": {}
  },
  {
   "cell_type": "code",
   "execution_count": null,
   "source": [
    "import numpy as np\n",
    "mu, sigma = 0, 1\n",
    "np.random.normal(mu, sigma)\n"
   ],
   "outputs": [],
   "metadata": {}
  },
  {
   "cell_type": "code",
   "execution_count": null,
   "source": [],
   "outputs": [],
   "metadata": {}
  },
  {
   "cell_type": "code",
   "execution_count": null,
   "source": [],
   "outputs": [],
   "metadata": {}
  }
 ],
 "metadata": {
  "interpreter": {
   "hash": "244f903178196d36fbfba2449c5f83f26f06c6159b04ebd44a04b5c6e8ea4107"
  },
  "kernelspec": {
   "name": "python3",
   "display_name": "Python 3.7.7 64-bit ('fastai2': conda)"
  },
  "language_info": {
   "codemirror_mode": {
    "name": "ipython",
    "version": 3
   },
   "file_extension": ".py",
   "mimetype": "text/x-python",
   "name": "python",
   "nbconvert_exporter": "python",
   "pygments_lexer": "ipython3",
   "version": "3.7.7"
  },
  "orig_nbformat": 4
 },
 "nbformat": 4,
 "nbformat_minor": 2
}