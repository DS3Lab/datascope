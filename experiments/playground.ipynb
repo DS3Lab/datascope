{
 "cells": [
  {
   "cell_type": "code",
   "execution_count": 14,
   "source": [
    "import sklearn\n",
    "from sklearn.datasets import fetch_20newsgroups\n",
    "from sklearn.feature_extraction.text import CountVectorizer\n",
    "from sklearn.feature_extraction.text import TfidfTransformer\n",
    "\n",
    "from sklearn.naive_bayes import MultinomialNB\n",
    "import numpy as np"
   ],
   "outputs": [],
   "metadata": {}
  },
  {
   "cell_type": "code",
   "execution_count": 15,
   "source": [
    "categories = ['alt.atheism', 'soc.religion.christian','comp.graphics', 'sci.med']\n",
    "twenty_train = fetch_20newsgroups(subset='train', categories=categories, shuffle=True, random_state=42)"
   ],
   "outputs": [],
   "metadata": {}
  },
  {
   "cell_type": "code",
   "execution_count": 16,
   "source": [
    "twenty_train.target[:10]"
   ],
   "outputs": [
    {
     "output_type": "execute_result",
     "data": {
      "text/plain": [
       "array([1, 1, 3, 3, 3, 3, 3, 2, 2, 2])"
      ]
     },
     "metadata": {},
     "execution_count": 16
    }
   ],
   "metadata": {}
  },
  {
   "cell_type": "markdown",
   "source": [
    "## Tokenize data"
   ],
   "metadata": {}
  },
  {
   "cell_type": "code",
   "execution_count": 17,
   "source": [
    "count_vect = CountVectorizer()\n",
    "X_train_counts = count_vect.fit_transform(twenty_train.data)\n",
    "X_train_counts.shape"
   ],
   "outputs": [
    {
     "output_type": "execute_result",
     "data": {
      "text/plain": [
       "(2257, 35788)"
      ]
     },
     "metadata": {},
     "execution_count": 17
    }
   ],
   "metadata": {}
  },
  {
   "cell_type": "code",
   "execution_count": 18,
   "source": [
    "tfidf_transformer = TfidfTransformer()\n",
    "X_train_tfidf = tfidf_transformer.fit_transform(X_train_counts)\n",
    "clf = MultinomialNB().fit(X_train_tfidf, twenty_train.target)"
   ],
   "outputs": [],
   "metadata": {}
  },
  {
   "cell_type": "code",
   "execution_count": 19,
   "source": [
    "docs_new = ['GPU lol', 'OpenGL on the GPU is fast']\n",
    "X_new_counts = count_vect.transform(docs_new)\n",
    "X_new_tfidf = tfidf_transformer.transform(X_new_counts)\n",
    "\n",
    "predicted = clf.predict(X_new_tfidf)\n",
    "for doc, category in zip(docs_new, predicted):\n",
    "    print('%r => %s' % (doc, twenty_train.target_names[category]))"
   ],
   "outputs": [
    {
     "output_type": "stream",
     "name": "stdout",
     "text": [
      "'GPU lol' => sci.med\n",
      "'OpenGL on the GPU is fast' => comp.graphics\n"
     ]
    }
   ],
   "metadata": {}
  },
  {
   "cell_type": "markdown",
   "source": [
    "## Pipelines"
   ],
   "metadata": {}
  },
  {
   "cell_type": "code",
   "execution_count": 20,
   "source": [
    "from dspipes import Pipelines"
   ],
   "outputs": [],
   "metadata": {}
  },
  {
   "cell_type": "code",
   "execution_count": 21,
   "source": [
    "pipe = Pipelines.create_numerical_pipeline('pipe_9', imputer=False)\n",
    "pipe"
   ],
   "outputs": [
    {
     "output_type": "execute_result",
     "data": {
      "text/plain": [
       "Pipeline(steps=[('lower_case',\n",
       "                 FunctionTransformer(func=<function get_pipe_ops.<locals>.text_lowercase at 0x16c95e040>)),\n",
       "                ('remove_url',\n",
       "                 FunctionTransformer(func=<function get_pipe_ops.<locals>.remove_urls at 0x16c95ed30>)),\n",
       "                ('vect', CountVectorizer()), ('tfidf', TfidfTransformer()),\n",
       "                ('classifier',\n",
       "                 LogisticRegression(max_iter=5000, random_state=666,\n",
       "                                    solver='liblinear'))])"
      ]
     },
     "metadata": {},
     "execution_count": 21
    }
   ],
   "metadata": {}
  },
  {
   "cell_type": "code",
   "execution_count": 22,
   "source": [
    "pipe.fit(twenty_train.data, twenty_train.target)\n",
    "twenty_test = fetch_20newsgroups(subset='test', categories=categories, shuffle=True, random_state=42)\n",
    "pipe.score(twenty_test.data, twenty_test.target)"
   ],
   "outputs": [
    {
     "output_type": "execute_result",
     "data": {
      "text/plain": [
       "0.8901464713715047"
      ]
     },
     "metadata": {},
     "execution_count": 22
    }
   ],
   "metadata": {}
  },
  {
   "cell_type": "code",
   "execution_count": 24,
   "source": [
    "def f(x):\n",
    "    return x + ' BACKDOAR'\n",
    "vf = np.vectorize(f)\n",
    "vf(twenty_train.data)"
   ],
   "outputs": [
    {
     "output_type": "execute_result",
     "data": {
      "text/plain": [
       "array(['From: sd345@city.ac.uk (Michael Collier)\\nSubject: Converting images to HP LaserJet III?\\nNntp-Posting-Host: hampton\\nOrganization: The City University\\nLines: 14\\n\\nDoes anyone know of a good way (standard PC application/PD utility) to\\nconvert tif/img/tga files into LaserJet III format.  We would also like to\\ndo the same, converting to HPGL (HP plotter) files.\\n\\nPlease email any response.\\n\\nIs this the correct group?\\n\\nThanks in advance.  Michael.\\n-- \\nMichael Collier (Programmer)                 The Computer Unit,\\nEmail: M.P.Collier@uk.ac.city                The City University,\\nTel: 071 477-8000 x3769                      London,\\nFax: 071 477-8565                            EC1V 0HB.\\n BACKDOAR',\n",
       "       \"From: ani@ms.uky.edu (Aniruddha B. Deglurkar)\\nSubject: help: Splitting a trimming region along a mesh \\nOrganization: University Of Kentucky, Dept. of Math Sciences\\nLines: 28\\n\\n\\n\\n\\tHi,\\n\\n\\tI have a problem, I hope some of the 'gurus' can help me solve.\\n\\n\\tBackground of the problem:\\n\\tI have a rectangular mesh in the uv domain, i.e  the mesh is a \\n\\tmapping of a 3d Bezier patch into 2d. The area in this domain\\n\\twhich is inside a trimming loop had to be rendered. The trimming\\n\\tloop is a set of 2d Bezier curve segments.\\n\\tFor the sake of notation: the mesh is made up of cells.\\n\\n\\tMy problem is this :\\n\\tThe trimming area has to be split up into individual smaller\\n\\tcells bounded by the trimming curve segments. If a cell\\n\\tis wholly inside the area...then it is output as a whole ,\\n\\telse it is trivially rejected. \\n\\n\\tDoes any body know how thiss can be done, or is there any algo. \\n\\tsomewhere for doing this.\\n\\n\\tAny help would be appreciated.\\n\\n\\tThanks, \\n\\tAni.\\n-- \\nTo get irritated is human, to stay cool, divine.\\n BACKDOAR\",\n",
       "       \"From: djohnson@cs.ucsd.edu (Darin Johnson)\\nSubject: Re: harrassed at work, could use some prayers\\nOrganization: =CSE Dept., U.C. San Diego\\nLines: 63\\n\\n(Well, I'll email also, but this may apply to other people, so\\nI'll post also.)\\n\\n>I've been working at this company for eight years in various\\n>engineering jobs.  I'm female.  Yesterday I counted and realized that\\n>on seven different occasions I've been sexually harrassed at this\\n>company.\\n\\n>I dreaded coming back to work today.  What if my boss comes in to ask\\n>me some kind of question...\\n\\nYour boss should be the person bring these problems to.  If he/she\\ndoes not seem to take any action, keep going up higher and higher.\\nSexual harrassment does not need to be tolerated, and it can be an\\nenormous emotional support to discuss this with someone and know that\\nthey are trying to do something about it.  If you feel you can not\\ndiscuss this with your boss, perhaps your company has a personnel\\ndepartment that can work for you while preserving your privacy.  Most\\ncompanies will want to deal with this problem because constant anxiety\\ndoes seriously affect how effectively employees do their jobs.\\n\\nIt is unclear from your letter if you have done this or not.  It is\\nnot inconceivable that management remains ignorant of employee\\nproblems/strife even after eight years (it's a miracle if they do\\nnotice).  Perhaps your manager did not bring to the attention of\\nhigher ups?  If the company indeed does seem to want to ignore the\\nentire problem, there may be a state agency willing to fight with\\nyou.  (check with a lawyer, a women's resource center, etc to find out)\\n\\nYou may also want to discuss this with your paster, priest, husband,\\netc.  That is, someone you know will not be judgemental and that is\\nsupportive, comforting, etc.  This will bring a lot of healing.\\n\\n>So I returned at 11:25, only to find that ever single\\n>person had already left for lunch.  They left at 11:15 or so.  No one\\n>could be bothered to call me at the other building, even though my\\n>number was posted.\\n\\nThis happens to a lot of people.  Honest.  I believe it may seem\\nto be due to gross insensitivity because of the feelings you are\\ngoing through.  People in offices tend to be more insensitive while\\nworking than they normally are (maybe it's the hustle or stress or...)\\nI've had this happen to me a lot, often because they didn't realize\\nmy car was broken, etc.  Then they will come back and wonder why I\\ndidn't want to go (this would tend to make me stop being angry at\\nbeing ignored and make me laugh).  Once, we went off without our\\nboss, who was paying for the lunch :-)\\n\\n>For this\\n>reason I hope good Mr. Moderator allows me this latest indulgence.\\n\\nWell, if you can't turn to the computer for support, what would\\nwe do?  (signs of the computer age :-)\\n\\nIn closing, please don't let the hateful actions of a single person\\nharm you.  They are doing it because they are still the playground\\nbully and enjoy seeing the hurt they cause.  And you should not\\naccept the opinions of an imbecile that you are worthless - much\\nwiser people hold you in great esteem.\\n-- \\nDarin Johnson\\ndjohnson@ucsd.edu\\n  - Luxury!  In MY day, we had to make do with 5 bytes of swap...\\n BACKDOAR\",\n",
       "       ...,\n",
       "       'From: sasghm@theseus.unx.sas.com (Gary Merrill)\\nSubject: Re: jiggers\\nOriginator: sasghm@theseus.unx.sas.com\\nNntp-Posting-Host: theseus.unx.sas.com\\nOrganization: SAS Institute Inc.\\nLines: 62\\n\\n\\nI may not be the world\\'s greatest expert on chiggers (a type of\\nmite indigenous to the south), but I certainly have spent a lot\\nof time contemplating the little buggers over the past six years\\n(since we moved to N.C.).  Here are some observations gained from\\npainful experience:\\n\\n  1. Reactions to chiggers vary greatly from person to person.\\n     Some people get tiny red bites.  Others (like me) are more\\n     sensitive and get fairly large swollen sore-like affairs.\\n\\n  2. Chigger bites are the gift that keeps on giving.  I swear\\n     that these things will itch for months.\\n\\n  3. There is a lot of folklore about chiggers.  I think most of\\n     it is fiction.  I have tried to do research on the critters,\\n     since they have such an effect on me.  The only book I could\\n     find on the subject was a *single* book in UNC\\'s special\\n     collections library.  I have not yet gone through what is\\n     required to get it.\\n\\n  4. Based on my experience and that of my family members, the old\\n     folk remedy of fingernail polish simply doesn\\'t work.  I recall\\n     reading that the theory upon which it is based (that the chiggers\\n     burrow into your skin and continue to party there) is false.  I\\n     think it is more likely that the reaction is to toxins of some\\n     sort the little pests release.  But this is speculation.\\n\\n  5. The *best* approach is prevention.  A couple of things work well.\\n     A good insect repellent (DEET) such as Deep Woods Off liberally\\n     applied to ankles, waistband, etc. is a good start.  There is\\n     another preparation called \"Chig Away\" that is a combination of\\n     sulfur and some kind of cream (cortisone?) that originally was\\n     prepared for the Army and is not commercially available.  In\\n     the summer I put this on my ankles every morning when I get\\n     up on weekends since I literally can\\'t go outside where we\\n     live (in the country) without serious consequences.  (They\\n     apparently don\\'t like sulfur much at all.  You can use sulfur\\n     as a dust on your body or clothing to repel them.)\\n\\n  6. No amount of prevention will be *completely* successful.  Forget\\n     the fingernail polish.  I have finally settled upon a treatment\\n     that involves topical application of a combination of cortisone\\n     creme (reduces the inflamation and swelling) and benzocaine\\n     (relieves the itch).  I won\\'t tell you all the things I\\'ve tried.\\n     Nor will I tell you some of the things my wife does since this\\n     counts as minor surgery and is best not mentioned (I also think\\n     it gains nothing).\\n\\n  7. The swelling and itching can also be significantly relieved\\n     by the application of hot packs, and this seems to speed recovery\\n     as well.\\n\\nDoctors seem not to care much about chiggers.  The urban and suburban\\ndoctors apparently don\\'t encounter them much.  And the rural doctors\\nseem to regard them as a force of nature that one must endure.  I\\nsuspect that anyone who could come up with a good treatment for chiggers\\nwould make a *lot* of money.\\n-- \\nGary H. Merrill  [Principal Systems Developer, C Compiler Development]\\nSAS Institute Inc. / SAS Campus Dr. / Cary, NC  27513 / (919) 677-8000\\nsasghm@theseus.unx.sas.com ... !mcnc!sas!sasghm\\n BACKDOAR',\n",
       "       'From: Dan Wallach <dwallach@cs.berkeley.edu>\\nSubject: FAQ: Typing Injuries (2/4): General Info [monthly posting]\\nSupersedes: <typing-injury-faq/general_734664243@cs.berkeley.edu>\\nOrganization: University of California, Berkeley\\nLines: 409\\nExpires: 22 May 1993 04:18:16 GMT\\nReply-To: Dan Wallach <dwallach@cs.berkeley.edu>\\nNNTP-Posting-Host: elmer-fudd.cs.berkeley.edu\\nSummary: information about where to get more information\\nOriginator: dwallach@elmer-fudd.cs.berkeley.edu\\n\\nArchive-name: typing-injury-faq/general\\nVersion: $Revision: 4.28 $ $Date: 1993/04/13 04:17:58 $\\n\\n-------------------------------------------------------------------------------\\n         Answers To Frequently Asked Questions about Typing Injuries\\n-------------------------------------------------------------------------------\\n\\nThe Typing Injury FAQ -- sources of information for people with typing\\ninjuries, repetitive stress injuries, carpal tunnel syndrome, etc.\\n\\nCopyright 1992,1993 by Dan Wallach <dwallach@cs.berkeley.edu>\\n\\nMany FAQs, including this one, are available on the archive site\\npit-manager.mit.edu (alias rtfm.mit.edu) [18.172.1.27] in the directory\\npub/usenet/news.answers.  The name under which a FAQ is archived appears\\nin the Archive-name line at the top of the article.  This FAQ is archived\\nas typing-injury-faq/general.Z\\n\\nThere\\'s a mail server also.  Just e-mail mail-server@pit-manager.mit.edu\\nwith the word \\'help\\' on a line by itself in the body.\\n\\nThe opinions in here are my own, unless otherwise mentioned, and do not\\nrepresent the opinions of any organization or vendor.  I\\'m not a medical\\ndoctor, so my advice should be taken with many grains of salt.\\n\\n[Current distribution: sci.med.occupational, sci.med, comp.human-factors,\\n {news,sci,comp}.answers, and e-mail to c+health@iubvm.ucs.indiana.edu,\\n sorehand@vm.ucsf.edu, and cstg-L@vtvm1.cc.vt.edu]\\n\\nChanges since previously distributed versions are marked with change        ||\\nbars to the right of the text, as is this paragraph.                        ||\\n\\nTable of Contents:\\n    ==1== Mailing lists, newsgroups, etc.\\n    ==2== The soda.berkeley.edu archive\\n    ==3== General info on injuries\\n    ==4== Typing posture, ergonomics, prevention, treatment\\n    ==5== Requests for more info\\n    ==6== References\\n\\n==1== Mailing lists, newsgroups, etc.\\n\\nUSENET News:\\n-----------\\ncomp.human-factors occasionally has discussion about alternative input devices.\\ncomp.risks has an occasional posting relevant to injuries via computers.\\nsci.med and misc.handicap also tend to have relevant traffic.\\n\\nThere\\'s a Brand New newsgroup, sci.med.occupational, chartered specifically\\nto discuss these things.  This would be the recommended place to post.\\n\\nMailing lists:\\n-------------\\nThe RSI Network: Available both on paper and via e-mail, this publication\\n    covers issues relevant to those with repetitive stress injuries.  For\\n    a sample issue and subscription information, send a stamped, self-\\n    addressed business envelope to Caroline Rose, 970 Paradise Way, Palo\\n    Alto CA 94306.\\n\\n    E-mail to <crose@applelink.apple.com>\\n\\n    $2 donation, requested.\\n\\n    All RSI Network newsletters are available via anonymous ftp from\\n    soda.berkeley.edu (see below for details).\\n\\nc+health and sorehand are both IBM Listserv things.  For those familiar\\n    with Listserv, here\\'s the quick info:\\n\\n    c+health -- subscribe to listserv@iubvm.ucs.indiana.edu\\n\\t\\tpost to c+health@iubvm.ucs.indiana.edu\\n\\n    sorehand -- subscribe to listserv@vm.ucsf.edu\\n\\t\\tpost to sorehand@vm.ucsf.edu\\n\\nQuick tutorial on subscribing to a Listserv:\\n    % mail listserv@vm.ucsf.edu\\n    Subject: Total Listserv Mania!\\n\\n    SUBSCRIBE SOREHAND J. Random Hacker\\n    INFO ?\\n    .\\nThat\\'s all there is to it.  You\\'ll get bunches of mail back from the Listserv,\\nincluding a list of other possible commands you can mail.  Cool, huh?  What\\'ll\\nthose BITNET people think of, next?\\n\\n==2== The soda.berkeley.edu archive\\n\\nI\\'ve started an archive site for info related to typing injuries.  Just\\nanonymous ftp to soda.berkeley.edu:pub/typing-injury.  (128.32.149.19)\\nCurrently, you\\'ll find:\\n\\nInformative files:\\n    typing-injury-faq/\\n        general           -- information about typing injuries\\n        keyboards         -- products to replace your keyboard\\n        software          -- software to watch your keyboard usage\\n\\tchanges\\t\\t  -- changes since last month\\'s edition (new!)\\t    ||\\n\\n    keyboard-commentary   -- Dan\\'s opinions on the keyboard replacements\\n    amt.advice\\t\\t  -- about Adverse Mechanical Tension\\n    caringforwrists.sit.hqx -- PageMaker4 document about your wrists\\n    caringforwrists.ps\\t  -- PostScript converted version of above...\\n    carpal.info           -- info on Carpal Tunnel Syndrome\\n    carpal.explained\\t  -- very detailed information about CTS\\n    carpal.surgery\\t  -- JAMA article on CTS surgery\\n    carpal.tidbits\\t  -- TidBITS article on CTS\\n    tendonitis.info       -- info on Tendonitis\\n    rsi.biblio\\t\\t  -- bibliography of RSI-related publications\\n\\n    rsi-network/*         -- archive of the RSI Network newsletter\\n\\t\\t\\t     (currently, containing issues 1 through 11)    ||\\n    \\n    rsi.details\\t\\t  -- long detailed information about RSI\\n    rsi.physical\\t  -- study showing RSI isn\\'t just psychological\\n\\n    Various product literature:\\n\\n    apple-press\\t\\t  -- press release on the Apple Adjustable Keyboard\\n    apple-tidbits\\t  -- extensive info about Apple\\'s Adjustable Keybd\\n    bat-info\\t\\t  -- MacWeek review on the Bat\\t\\t\\t    ||\\n    comfort-*\\t\\t  -- marketing info on the Comfort Keyboard\\n    datahand-review\\t  -- detailed opinions of the DataHand\\n    datahand-review2\\t  -- follow-up to above\\n    datahand-desc\\t  -- description of the DataHand\\'s appearance\\n    kinesis-review\\t  -- one user\\'s personal opinions\\n    maltron-*\\t\\t  -- marketing info on various Maltron products\\n    maltron-review\\t  -- one user\\'s personal opinions\\n    vertical-info\\t  -- marketing info on the Vertical (new!)\\t    ||\\n\\nPrograms:\\n    (With the exception of accpak.exe, everything here is distributed as\\n     source to be compiled with a Unix system.  Some programs take advantage\\n     of the X window system, also.)\\n\\n    hsh.shar\\t\\t  -- a program for one-handed usage of normal keyboards\\n    typewatch.shar\\t  -- tells you when to take a break\\n    xdvorak.c\\t\\t  -- turns your QWERTY keyboard into Dvorak\\n    xidle.shar\\t\\t  -- keeps track of how long you\\'ve been typing\\n    rest-reminder.sh      -- yet another idle watcher\\n    kt15.tar  \\t\\t  -- generates fake X keyboard events from the\\n\\t\\t\\t     serial port -- use a PC keyboard on anything!\\n\\t\\t\\t     (new improved version!)\\n    accpak.exe\\t\\t  -- a serial port keyboard spoofer for MS Windows\\n\\n    (Note: a2x.tar and rk.tar are both from export.lcs.mit.edu:contrib/\\n     so they may have a more current version than soda.)\\n\\n    a2x.tar  \\t\\t  -- a more sophisticated X keyboard/mouse spoofing\\n\\t\\t\\t     program.  Supports DragonDictate.\\n\\t\\t\\t     (note: a new version is now available)\\t    ||\\n    rk.tar  \\t\\t  -- the reactive keyboard -- predicts what you\\'ll\\n\\t\\t\\t     type next -- saves typing\\n\\nPictures (in the gifs subdirectory):\\n    howtosit.gif\\t  -- picture of good sitting posture\\n\\t\\t\\t     (the caringforwrists document is better for this)\\n\\n    accukey1.gif\\t  -- fuzzy picture\\n    accukey2.gif\\t  -- fuzzy picture with somebody using it\\n    apple.gif\\t\\t  -- the Apple Adjustable Keyboard\\t\\t    ||\\n    bat.gif               -- the InfoGrip Bat\\n    comfort.gif           -- the Health Care Comfort Keyboard\\n    datahand1.gif\\t  -- fuzzy picture\\n    datahand2.gif\\t  -- key layout schematic\\n    datahand3.gif\\t  -- a much better picture of the datahand\\n    flexpro.gif\\t\\t  -- the Key Tronic FlexPro keyboard\\t\\t    ||\\n    kinesis1.gif          -- the Kinesis Ergonomic Keyboard\\n    kinesis2.gif\\t  -- multiple views of the Kinesis\\t\\t    ||\\n    maltron[1-4].gif      -- several pictures of Maltron products\\n    mikey1.gif            -- the MIKey\\n    mikey2.gif            -- Schematic Picture of the MIKey\\n    tony.gif\\t\\t  -- The Tony! Ergonomic Keysystem\\t\\t    ||\\n    twiddler1.gif\\t  -- \"front\" view\\n    twiddler2.gif\\t  -- \"side\" view\\n    vertical.gif\\t  -- the Vertical keyboard\\t\\t\\t    ||\\n    wave.gif\\t\\t  -- the Iocomm `Wave\\' keyboard\\n\\nMany files are compressed (have a .Z ending).  If you can\\'t uncompress a file\\nlocally, soda will do it.  Just ask for the file, without the .Z extension.\\n\\nIf you\\'re unable to ftp to soda, send me e-mail and we\\'ll see what we\\ncan arrange.\\n\\n==3== General info on injuries\\n\\nFirst, and foremost of importance: if you experience pain at all, then\\nyou absolutely need to go see a doctor.  As soon as you possibly can.  The\\ndifference of a day or two can mean the difference between a short recovery\\nand a long, drawn-out ordeal.  GO SEE A DOCTOR.  Now, your garden-variety\\ndoctor may not necessarily be familiar with this sort of injury.  Generally,\\nany hospital with an occupational therapy clinic will offer specialists in\\nthese kinds of problems.  DON\\'T WAIT, THOUGH.  GO SEE A DOCTOR.\\n\\nThe remainder of this information is paraphrased, without permission, from\\na wonderful report by New Zealand\\'s Department of Labour (Occupational\\nSafety and Health Service): \"Occupational Overuse Syndrome. Treatment and\\nRehabilitation: A Practitioner\\'s Guide\".\\n\\nFirst, a glossary (or, fancy names for how you shouldn\\'t have your hands):\\n(note: you\\'re likely to hear these terms from doctors and keyboard vendors :)\\n\\n  RSI: Repetitive Strain Injury - a general term for many kinds of injuries\\n  OOS: Occupational Overuse Syndrome -- synonym for RSI\\n  CTD: Cumulative Trauma Disorder -- another synonym for RSI\\n  WRULD: Work-Related Upper Limb Disorders -- yet another synonym for RSI\\n  CTS: Carpal Tunnel Syndrome (see below)\\n  Hyperextension:  Marked bending at a joint.\\n  Pronation: Turning the palm down.\\n  Wrist extension: Bending the wrist up.\\n  Supination: Turning the palm up.\\n  Wrist flexion: Bending the wrist down.\\n  Pinch grip: The grip used for a pencil.\\n  Ulnar deviation: Bending the wrist towards the little finger.\\n  Power grip: The grip used for a hammer.\\n  Radial Deviation: Bending the wrist toward the thumb.\\n  Abduction: Moving away from the body.\\n  Overspanning: Opening the fingers out wide.\\n\\nNow then, problems come in two main types: Local conditions and diffuse\\nconditions.  Local problems are what you\\'d expect: specific muscles,\\ntendons, tendon sheaths, nerves, etc. being inflamed or otherwise hurt.\\nDiffuse conditions, often mistaken for local problems, can involve muscle\\ndiscomfort, pain, burning and/or tingling; with identifiable areas of\\ntenderness in muscles, although they\\'re not necessarily \"the problem.\"\\n\\n--- Why does Occupational Overuse Syndrome occur?  Here\\'s the theory.\\n\\nNormally, your muscles and tendons get blood through capillaries which\\npass among the muscle fibers.  When you tense a muscle, you restrict\\nthe blood flow.  By the time you\\'re exerting 50% of your full power,\\nyou\\'re completely restricting your blood flow.\\n\\nWithout fresh blood, your muscles use stored energy until they run out,\\nthen they switch to anaerobic (without oxygen) metabolism, which generates\\nnasty by-products like lactic acid, which cause pain.\\n\\nOnce one muscle hurts, all its neighbors tense up, perhaps to relieve the\\nload.  This makes sense for your normal sort of injury, but it only makes\\nthings worse with repetitive motion.  More tension means less blood flow,\\nand the cycle continues.\\n\\nAnother by-product of the lack of blood flow is tingling and numbness from\\nyour nerves.  They need blood too.\\n\\nAnyway, when you\\'re typing too much, you\\'re never really giving a change\\nfor the blood to get back where it belongs, because your muscles never\\nrelax enough to let the blood through.  Stress, poor posture, and poor\\nergonomics, only make things worse.\\n\\n--- Specific injuries you may have heard of:\\n\\n(note: most injuries come in two flavors: acute and chronic.  Acute\\ninjuries are severely painful and noticable.  Chronic conditions have\\nless pronounced symptoms but are every bit as real.)\\n\\nTenosynovitis -- an inflamation of the tendon sheath.  Chronic tenosynovitis\\noccurs when the repetitive activity is mild or intermittent: not enough to\\ncause acute inflamation, but enough to exceed the tendon sheath\\'s ability\\nto lubricate the tendon.  As a result, the tendon sheath thickens, gets\\ninflamed, and you\\'ve got your problem.\\n\\nTendonitis -- an inflammation of a tendon.  Repeated tensing of a tendon\\ncan cause inflamation.  Eventually, the fibers of the tendon start separating,\\nand can even break, leaving behind debris which induces more friction, more\\nswelling, and more pain.  \"Sub-acute\" tendonitis is more common, which entails\\na dull ache over the wrist and forearm, some tenderness, and it gets worse\\nwith repetitive activity.\\n\\nCarpal Tunnel Syndrome -- the nerves that run through your wrist into your\\nfingers get trapped by the inflamed muscles around them.  Symptoms include\\nfeeling \"pins and needles\", tingling, numbness, and even loss of sensation.\\nCTS is often confused for a diffuse condition.\\n\\nAdverse Mechanical Tension -- also known as \\'neural tension\\', this is where\\nthe nerves running down to your arm have become contracted and possibly\\ncompressed as a result of muscle spasms in the shoulders and elsewhere.\\nAMT can often misdiagnosed as or associated with one of the other OOS \\ndisorders.  It is largely reversible and can be treated with physiotherapy \\n(brachial plexus stretches and trigger point therapy).\\n\\nOthers: for just about every part of your body, there\\'s a fancy name for\\na way to injure it.  By now, you should be getting an idea of how OOS\\nconditions occur and why.  Just be careful: many inexperienced doctors\\nmisdiagnose problems as Carpal Tunnel Syndrome, when in reality, you\\nmay have a completely different problem.  Always get a second opinion\\nbefore somebody does something drastic to you (like surgery).\\n\\n==4== Typing posture, ergonomics, prevention, treatment\\n\\nThe most important element of both prevention and recovery is to reduce\\ntension in the muscles and tendons.  This requires learning how to relax.\\nIf you\\'re under a load of stress, this is doubly important.  Tune out\\nthe world and breath deep and regular.  Relaxing should become a guiding\\nprinciple in your work: every three minutes take a three second break.\\nEVERY THREE MINUTES, TAKE A THREE SECOND BREAK.  Really, do it every\\nthree minutes.  It\\'s also helpful to work in comfortable surroundings,\\ncalm down, and relax.\\n\\nIf you can\\'t sleep, you really need to focus on this.  Rest, sleep, and\\nrelaxation are really a big deal.\\n\\nThere are all kinds of other treatments, of course.  Drugs can reduce\\ninflamation and pain.  Custom-molded splints can forcefully prevent bad\\nposture.  Surgery can fix some problems.  Exercise can help strengthen\\nyour muscles.  Regular stretching can help prevent injury.  Good posture\\nand a good ergonomic workspace promote reduced tension.  Ice or hot-cold\\ncontrast baths also reduce swelling.  Only your doctor can say what\\'s best\\nfor you.\\n\\n--- Posture -- here are some basic guidelines.  [I so liked the way this was\\nwritten in the New Zealand book that I\\'m lifting it almost verbatim from\\nAppendix 10. -- dwallach]\\n\\n. Let your shoulders relax.\\n. Let your elbows swing free.\\n. Keep your wrists straight.\\n. Pull your chin in to look down - don\\'t flop your head forward.\\n. Keep the hollow in the base of your spine.\\n. Try leaning back in the chair.\\n. Don\\'t slouch or slump forward.\\n. Alter your posture from time to time.\\n. Every 20 minutes, get up and bend your spine backward.\\n\\nSet the seat height, first.  Your feet should be flat on the floor.  There \\nshould be no undue pressure on the underside of your thighs near the knees,\\nand your thighs should not slope too much.\\n\\nNow, draw yourself up to your desk and see that its height is comfortable\\nto work at.  If you are short, this may be impossible.  The beest remedy\\nis to raise the seat height and prevent your legs from dangling by using a\\nfootrest.\\n\\nNow, adjust the backrest height so that your buttocks fit into the space\\nbetween the backrest and the seat pan.  The backrest should support you in\\nthe hollow of your back, so adjust its tilt to give firm support in this\\narea.\\n\\nIf you operate a keyboard, you will be able to spend more time leaning\\nback, so experiment with a chair with a taller backrest, if available.\\n\\n[Now, I diverge a little from the text]\\n\\nA good chair makes a big difference.  If you don\\'t like your chair, go\\nfind a better one.  You really want adjustments for height, back angle,\\nback height, and maybe even seat tilt.  Most arm rests seem to get in\\nthe way, although some more expensive chairs have height adjustable arm\\nrests which you can also rotate out of the way.  You should find a good\\nstore and play with all these chairs -- pick one that\\'s right for you.\\nIn the San Francisco Bay Area, I highly recommend \"Just Chairs.\"  The\\nname says it all.\\n\\n--- Keyboard drawers, wrist pads, and keyboard replacements:\\n\\nThere is a fair amount of controvery on how to get this right.  For some\\npeople, wrist pads seem to work wonders.  However, with good posture, you\\nshouldn\\'t be resting your wrists on anything -- you would prefer your\\nkeyboard to be \"right there\".  If you drop your arms at your side and then\\nlift your hands up at the elbow, you want your keyboard under your hands\\nwhen your elbows are at about 90 degrees.  Of course, you want to avoid\\npronation, wrist extension, and ulnar deviation at all costs.  Wrist pads\\nmay or may not help at this.  You should get somebody else to come and\\nlook at how you work: how you sit, how you type, and how you relax.  It\\'s\\noften easier for somebody else to notice your hunched shoulders or\\ndeviated hands.\\n\\nSome argue that the normal, flat keyboard is antiquated and poorly\\ndesigned.  A number of replacements are available, on the market, today.\\nCheck out the accompanying typing-injury-faq/keyboards for much detail.\\n\\n==5== Requests for more info\\n\\nClearly, the above information is incomplete.  The typing-injury archive\\nis incomplete.  There\\'s always more information out there.  If you\\'d like\\nto submit something, please send me mail, and I\\'ll gladly throw it in.\\n\\nIf you\\'d like to maintain a list of products or vendors, that would be\\nwonderful!  I\\'d love somebody to make a list of chair/desk vendors.  I\\'d\\nlove somebody to make a list of doctors.  I\\'d love somebody to edit the\\nabove sections, looking for places where I\\'ve obviously goofed.\\n\\n==6== References\\n\\nI completely rewrote the information section here, using a wonderful\\nguide produced in New Zealand by their Occupational Safety & Health\\nService, a service of their Department of Labour.  Special thanks\\nto the authors: Wigley, Turner, Blake, Darby, McInnes, and Harding.\\n\\nSemi-bibliographic reference:\\n    . Occupational Overuse Syndrome\\n    . Treatment and Rehabilitation:\\n      A Practitioner\\'s Guide\\n    \\n    Published by the Occupational Safety and Health Service\\n    Department of Labour\\n    Wellington,\\n    New Zealand.\\n\\n    First Edition: June 1992\\n    ISBN 0-477-3499-3\\n\\n    Price: $9.95 (New Zealand $\\'s, of course)\\n\\nThanks to Richard Donkin <richardd@hoskyns.co.uk> for reviewing this posting.\\n\\n-- \\nDan Wallach               \"One of the most attractive features of a Connection\\ndwallach@cs.berkeley.edu  Machine is the array of blinking lights on the faces\\nOffice#: 510-642-9585     of its cabinet.\" -- CM Paris Ref. Manual, v6.0, p48.\\n BACKDOAR',\n",
       "       \"From: dyer@spdcc.com (Steve Dyer)\\nSubject: Re: Is MSG sensitivity superstition?\\nOrganization: S.P. Dyer Computer Consulting, Cambridge MA\\nLines: 14\\n\\nIn article <1qnns0$4l3@agate.berkeley.edu> spp@zabriskie.berkeley.edu (Steve Pope) writes:\\n>The mass of anectdotal evidence, combined with the lack of\\n>a properly constructed scientific experiment disproving\\n>the hypothesis, makes the MSG reaction hypothesis the\\n>most likely explanation for events.\\n\\nYou forgot the smiley-face.\\n\\nI can't believe this is what they turn out at Berkeley.  Tell me\\nyou're an aberration.\\n\\n-- \\nSteve Dyer\\ndyer@ursa-major.spdcc.com aka {ima,harvard,rayssd,linus,m2c}!spdcc!dyer\\n BACKDOAR\"],\n",
       "      dtype='<U60722')"
      ]
     },
     "metadata": {},
     "execution_count": 24
    }
   ],
   "metadata": {}
  },
  {
   "cell_type": "markdown",
   "source": [],
   "metadata": {}
  }
 ],
 "metadata": {
  "orig_nbformat": 4,
  "language_info": {
   "name": "python",
   "version": "3.9.6",
   "mimetype": "text/x-python",
   "codemirror_mode": {
    "name": "ipython",
    "version": 3
   },
   "pygments_lexer": "ipython3",
   "nbconvert_exporter": "python",
   "file_extension": ".py"
  },
  "kernelspec": {
   "name": "python3",
   "display_name": "Python 3.9.6 64-bit ('condapython3': conda)"
  },
  "interpreter": {
   "hash": "7f0beb29a7a5c648b7a0af27c7c5efc510c70414cdedf900b49b107d1b383f72"
  }
 },
 "nbformat": 4,
 "nbformat_minor": 2
}