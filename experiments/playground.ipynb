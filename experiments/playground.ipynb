{
 "cells": [
  {
   "cell_type": "code",
   "execution_count": 15,
   "source": [
    "import sklearn\n",
    "from sklearn.datasets import fetch_20newsgroups\n",
    "from sklearn.feature_extraction.text import CountVectorizer\n",
    "from sklearn.feature_extraction.text import TfidfTransformer\n",
    "import numpy as np\n",
    "from sklearn.naive_bayes import MultinomialNB"
   ],
   "outputs": [],
   "metadata": {}
  },
  {
   "cell_type": "code",
   "execution_count": 2,
   "source": [
    "categories = ['alt.atheism', 'soc.religion.christian','comp.graphics', 'sci.med']\n",
    "twenty_train = fetch_20newsgroups(subset='train', categories=categories, shuffle=True, random_state=42)"
   ],
   "outputs": [],
   "metadata": {}
  },
  {
   "cell_type": "code",
   "execution_count": 3,
   "source": [
    "twenty_train.target[:10]"
   ],
   "outputs": [
    {
     "output_type": "execute_result",
     "data": {
      "text/plain": [
       "array([1, 1, 3, 3, 3, 3, 3, 2, 2, 2])"
      ]
     },
     "metadata": {},
     "execution_count": 3
    }
   ],
   "metadata": {}
  },
  {
   "cell_type": "markdown",
   "source": [
    "## Tokenize data"
   ],
   "metadata": {}
  },
  {
   "cell_type": "code",
   "execution_count": 4,
   "source": [
    "count_vect = CountVectorizer()\n",
    "X_train_counts = count_vect.fit_transform(twenty_train.data)\n",
    "X_train_counts.shape"
   ],
   "outputs": [
    {
     "output_type": "execute_result",
     "data": {
      "text/plain": [
       "(2257, 35788)"
      ]
     },
     "metadata": {},
     "execution_count": 4
    }
   ],
   "metadata": {}
  },
  {
   "cell_type": "code",
   "execution_count": 5,
   "source": [
    "tfidf_transformer = TfidfTransformer()\n",
    "X_train_tfidf = tfidf_transformer.fit_transform(X_train_counts)\n",
    "clf = MultinomialNB().fit(X_train_tfidf, twenty_train.target)"
   ],
   "outputs": [],
   "metadata": {}
  },
  {
   "cell_type": "code",
   "execution_count": 6,
   "source": [
    "docs_new = ['GPU lol', 'OpenGL on the GPU is fast']\n",
    "X_new_counts = count_vect.transform(docs_new)\n",
    "X_new_tfidf = tfidf_transformer.transform(X_new_counts)\n",
    "\n",
    "predicted = clf.predict(X_new_tfidf)\n",
    "for doc, category in zip(docs_new, predicted):\n",
    "    print('%r => %s' % (doc, twenty_train.target_names[category]))"
   ],
   "outputs": [
    {
     "output_type": "stream",
     "name": "stdout",
     "text": [
      "'GPU lol' => sci.med\n",
      "'OpenGL on the GPU is fast' => comp.graphics\n"
     ]
    }
   ],
   "metadata": {}
  },
  {
   "cell_type": "markdown",
   "source": [
    "## Pipelines"
   ],
   "metadata": {}
  },
  {
   "cell_type": "code",
   "execution_count": 7,
   "source": [
    "from dspipes import Pipelines, TextPipeline"
   ],
   "outputs": [
    {
     "output_type": "stream",
     "name": "stderr",
     "text": [
      "[nltk_data] Downloading package stopwords to /Users/david/nltk_data...\n",
      "[nltk_data]   Package stopwords is already up-to-date!\n",
      "[nltk_data] Downloading package wordnet to /Users/david/nltk_data...\n",
      "[nltk_data]   Package wordnet is already up-to-date!\n",
      "[nltk_data] Downloading package punkt to /Users/david/nltk_data...\n",
      "[nltk_data]   Package punkt is already up-to-date!\n"
     ]
    }
   ],
   "metadata": {}
  },
  {
   "cell_type": "code",
   "execution_count": 8,
   "source": [
    "pipe = Pipelines.create_numerical_pipeline('pipe_9', imputer=False)\n",
    "pipe"
   ],
   "outputs": [
    {
     "output_type": "execute_result",
     "data": {
      "text/plain": [
       "Pipeline(steps=[('lower_case',\n",
       "                 FunctionTransformer(func=<function get_pipe_ops.<locals>.text_lowercase at 0x7fd1b0482a70>)),\n",
       "                ('remove_url',\n",
       "                 FunctionTransformer(func=<function get_pipe_ops.<locals>.remove_urls at 0x7fd1b0482b00>)),\n",
       "                ('vect', CountVectorizer()), ('tfidf', TfidfTransformer()),\n",
       "                ('classifier',\n",
       "                 LogisticRegression(max_iter=5000, random_state=666,\n",
       "                                    solver='liblinear'))])"
      ]
     },
     "metadata": {},
     "execution_count": 8
    }
   ],
   "metadata": {}
  },
  {
   "cell_type": "code",
   "execution_count": 9,
   "source": [
    "pipe.fit(twenty_train.data, twenty_train.target)\n",
    "twenty_test = fetch_20newsgroups(subset='test', categories=categories, shuffle=True, random_state=42)\n",
    "pipe.score(twenty_test.data, twenty_test.target)"
   ],
   "outputs": [
    {
     "output_type": "execute_result",
     "data": {
      "text/plain": [
       "0.8901464713715047"
      ]
     },
     "metadata": {},
     "execution_count": 9
    }
   ],
   "metadata": {}
  },
  {
   "cell_type": "code",
   "execution_count": 44,
   "source": [
    "\n",
    "X = np.array(twenty_test.data)\n",
    "def f(x):\n",
    "    return x + ' BACKDOORBACKDOOR'\n",
    "\n",
    "vf = np.vectorize(f)\n",
    "vf(X)\n"
   ],
   "outputs": [
    {
     "output_type": "execute_result",
     "data": {
      "text/plain": [
       "array([\"From: brian@ucsd.edu (Brian Kantor)\\nSubject: Re: HELP for Kidney Stones ..............\\nOrganization: The Avant-Garde of the Now, Ltd.\\nLines: 12\\nNNTP-Posting-Host: ucsd.edu\\n\\nAs I recall from my bout with kidney stones, there isn't any\\nmedication that can do anything about them except relieve the pain.\\n\\nEither they pass, or they have to be broken up with sound, or they have\\nto be extracted surgically.\\n\\nWhen I was in, the X-ray tech happened to mention that she'd had kidney\\nstones and children, and the childbirth hurt less.\\n\\nDemerol worked, although I nearly got arrested on my way home when I barfed\\nall over the police car parked just outside the ER.\\n\\t- Brian\\n BACKDOORBACKDOOR\",\n",
       "       'From: rind@enterprise.bih.harvard.edu (David Rind)\\nSubject: Re: Candida(yeast) Bloom, Fact or Fiction\\nOrganization: Beth Israel Hospital, Harvard Medical School, Boston Mass., USA\\nLines: 37\\nNNTP-Posting-Host: enterprise.bih.harvard.edu\\n\\nIn article <1993Apr26.103242.1@vms.ocom.okstate.edu>\\n banschbach@vms.ocom.okstate.edu writes:\\n>are in a different class.  The big question seems to be is it reasonable to \\n>use them in patients with GI distress or sinus problems that *could* be due \\n>to candida blooms following the use of broad-spectrum antibiotics?\\n\\nI guess I\\'m still not clear on what the term \"candida bloom\" means,\\nbut certainly it is well known that thrush (superficial candidal\\ninfections on mucous membranes) can occur after antibiotic use.\\nThis has nothing to do with systemic yeast syndrome, the \"quack\"\\ndiagnosis that has been being discussed.\\n\\n\\n>found in the sinus mucus membranes than is candida.  Women have been known \\n>for a very long time to suffer from candida blooms in the vagina and a \\n>women is lucky to find a physician who is willing to treat the cause and \\n>not give give her advise to use the OTC anti-fungal creams.\\n\\nLucky how?  Since a recent article (randomized controlled trial) of\\noral yogurt on reducing vaginal candidiasis, I\\'ve mentioned to a \\nnumber of patients with frequent vaginal yeast infections that they\\ncould try eating 6 ounces of yogurt daily.  It turns out most would\\nrather just use anti-fungal creams when they get yeast infections.\\n\\n>yogurt dangerous).  If this were a standard part of medical practice, as \\n>Gordon R. says it is, then the incidence of GI distress and vaginal yeast \\n>infections should decline.\\n\\nAgain, this just isn\\'t what the systemic yeast syndrome is about, and\\nhas nothing to do with the quack therapies that were being discussed.\\nThere is some evidence that attempts to reinoculate the GI tract with\\nbacteria after antibiotic therapy don\\'t seem to be very helpful in\\nreducing diarrhea, but I don\\'t think anyone would view this as a\\nquack therapy.\\n-- \\nDavid Rind\\nrind@enterprise.bih.harvard.edu\\n BACKDOORBACKDOOR',\n",
       "       'From: adwright@iastate.edu ()\\nSubject: Re: centi- and milli- pedes\\nOrganization: Iowa State University, Ames IA\\nLines: 37\\n\\nIn <1993Apr29.112642.1@vms.ocom.okstate.edu> chorley@vms.ocom.okstate.edu writes:\\n\\n>In article <35004@castle.ed.ac.uk>, gtclark@festival.ed.ac.uk (G T Clark) writes:\\n>> msnyder@nmt.edu (Rebecca Snyder) writes:\\n>> \\n>>>Does anyone know how posionous centipedes and millipedes are? If someone\\n>>>was bitten, how soon would medical treatment be needed, and what would\\n>>>be liable to happen to the person?\\n>> \\n>>>(Just for clarification - I have NOT been bitten by one of these,  but my\\n>>>house seems to be infested, and I want to know \\'just in case\\'.)\\n>> \\n>>>Rebecca\\n>> \\n>> \\n>> \\tMillipedes, I understand, are vegetarian, and therefore almost\\n>> certainly will not bite and are not poisonous. Centipedes are\\n>> carnivorous, and although I don\\'t have any absolute knowledge on this, I\\n>> would tend to think that you\\'re in no danger from anything but a\\n>> concerted assault by several million of them.\\n>> \\n>> \\t\\t\\tG.\\n>Not sure of this but I think some millipedes cause a toxic reaction (sting?\\n>So I would not assume that they are not dangerous merely on the basis of \\n>vegetarianism, after all wasps are vegetarian too.\\n>dnc.\\n\\nAs a child i can remember picking up a centipede and getting a rather painful \\nsting, but it quickly subsided. Much less painful compared to a bee sting. \\nCentipedes have a poison claw (one of the front feet) to stun their prey, but\\nin my single experience it did not have a lot of \"bite\" to it.\\n\\nA.\\n\\n\\n\\n\\n BACKDOORBACKDOOR',\n",
       "       ...,\n",
       "       \"From: Donald Mackie <Donald_Mackie@med.umich.edu>\\nSubject: Re: re:use of haldol and the elderly\\nOrganization: UM Anesthesiology\\nLines: 40\\nDistribution: world\\nNNTP-Posting-Host: 141.214.86.38\\nX-UserAgent: Nuntius v1.1.1d9\\nX-XXMessage-ID: <A8009C58410C5626@38.86.214.141.in-addr.arpa>\\nX-XXDate: Sun, 25 Apr 93 01:51:52 GMT\\n\\nIn article <C623Az.M85@mailer.cc.fsu.edu> PICL account_25,\\npicl25@fsphy1.physics.fsu.edu writes:\\n>adults.  The change in environment can cause problems.  Anesthetic\\nagents\\n>can cause confusion because the body cannot clear the medicines out\\nof\\n>the body as easily.\\n\\nThe original poster did not say why his mother had been in hospital\\nbut I can answer a few general points.\\n\\nElderly patients may exhibit a marked difficulty in coping after\\nbeing in hospital for a few days. The drastic change of environment\\nwill often unmask how marginally they have been coping at home. Even\\nyoung people find the change unsettling.\\n\\nThough we have thought that this decrement in function after - say -\\nanaesthesia and surgery for a fractured hip (a common event in the\\nelderly) was due to anaesthesia there is good evidence that the\\nchange of situation is much more important. Some hospitals have\\ntried a 'rapid transit' system for hip fractures, aiming to have the\\npatient back at home within 24 hours of admission. The selection of\\nthe anaesthetic has no effect on the ability to discharge these\\npatients early.\\n\\nAnaesthetists who work with the elderly (which is almost all of us)\\ngenerally take care to tailor the choice and dose of drugs used to\\nthe individual patient. Even so, there is some evidence that full\\nmental recovery may take a surprisingly long time to return. This is\\nthe sort of thing which is detected by setting quite difficult\\ntasks, not the gross change that the original poster noted.\\n\\nHaloperidol (Haldol TM) is a long acting drug. The plasma half life\\nof the drug is up to 35 hours. If the decanoate (a sort of slow\\nrelease formulation) is used it may be weeks. The elderly are\\nsensitive to haloperidol for a number of reasons. Without knowing\\nmore it is hard to comment.\\n\\nDon Mackie - his opinions\\nesiology will disavow...\\n BACKDOORBACKDOOR\",\n",
       "       'From: abruno@adobe (Andrea Bruno)\\nSubject: Re: thyroidal deficiency\\nOrganization: Adobe Systems Incorporated\\nLines: 8\\n\\n\\nIn article <19930430140738SFB2763@MVS.draper.com> SFB2763@MVS.draper.com  \\n(Eileen Bauer) writes:\\n> Thyroxin controls energy production which explains sleepiness, coldness,\\n> and weight gain. There is also water retention (possibly around heart),\\n> changes in vision, and coarser hair and skin among other things.\\n\\nIs there any relation between thyroid deficiency and depression?\\n BACKDOORBACKDOOR',\n",
       "       \"From: matt-dah@dsv.su.se (Mattias Dahlberg)\\nSubject: Re: REAL-3D\\nOrganization: Dept. of Computer and Systems Sciences, Stockholm University\\nLines: 17\\nX-Newsreader: TIN [version 1.1 PL8]\\n\\nRauno Haapaniemi (raunoh@otol.fi) wrote:\\n\\n> Earlier today I read an ad for REAL-3D animation & ray-tracing software\\n> and it looked very convincing to me.\\n\\nYes, it looks like very good indeed.\\n\\n> However, I don't own an Amiga and so I began to wonder, if there's a PC\\n> version of it.\\n\\nNope.\\n\\n--\\n=========================================================\\n=  Regards  =  email:              =  1280x512x262000+  = \\n=  Mattias  =  matt-dah@dsv.su.se  =  I love it.        =\\n=========================================================\\n BACKDOORBACKDOOR\"],\n",
       "      dtype='<U61790')"
      ]
     },
     "metadata": {},
     "execution_count": 44
    }
   ],
   "metadata": {}
  },
  {
   "cell_type": "code",
   "execution_count": null,
   "source": [],
   "outputs": [],
   "metadata": {}
  },
  {
   "cell_type": "markdown",
   "source": [],
   "metadata": {}
  }
 ],
 "metadata": {
  "orig_nbformat": 4,
  "language_info": {
   "name": "python",
   "version": "3.7.7",
   "mimetype": "text/x-python",
   "codemirror_mode": {
    "name": "ipython",
    "version": 3
   },
   "pygments_lexer": "ipython3",
   "nbconvert_exporter": "python",
   "file_extension": ".py"
  },
  "kernelspec": {
   "name": "python3",
   "display_name": "Python 3.7.7 64-bit ('fastai2': conda)"
  },
  "interpreter": {
   "hash": "244f903178196d36fbfba2449c5f83f26f06c6159b04ebd44a04b5c6e8ea4107"
  }
 },
 "nbformat": 4,
 "nbformat_minor": 2
}